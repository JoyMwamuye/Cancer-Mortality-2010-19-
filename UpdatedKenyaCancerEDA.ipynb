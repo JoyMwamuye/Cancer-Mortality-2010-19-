{
 "cells": [
  {
   "cell_type": "markdown",
   "id": "1af1a326",
   "metadata": {},
   "source": [
    "# Kenya Cancer Mortality (2010-2019)\n",
    "\n",
    "##### Global Outlook\n",
    "Cancer occurs when abnormal cells grow uncontollably anywhere in the body. Cancer tumors spread into and invade ajoining parts, spreading to other organs, this process is referred to as metastasis. Metastasizing is the major cause of death among cancer patients. \n",
    " \n",
    "**Key Facts**\n",
    "\n",
    "* Cancer causes more deaths than HIV, TB and malaria combined.\n",
    "* Globally, cancer is the second leading cause of death, accounting for nearly 1 in 6 deaths.\n",
    "* Around one-third of deaths from cancer are due to tobacco use, high BMI, alcohol consumption, low fruit and vegetable intake and lack of physical activity. \n",
    "* Some cancer-causing infections such as HPV and hepatitis are responsible for approximately 30% of cancer cases in low-and-middle-income countries. \n",
    "* Early detection and effective treatment can cure many types of cancers.\n",
    "\n",
    "\n",
    "##### Kenya Overview\n",
    "Like the rest of the world, Kenya has been experiencing rising cases of cancer mortality over the years. Cancer is the 3rd highest cause of morbidity. It is estimated that there are 39,000 new cancer cases annually with more than 27,000 deaths (*source:https://kenyacancernetwork.wordpress.com*).\n",
    "\n",
    "Over 70% of cancer cases are diagnosed in late stages due to a variety of reasons including; lack of awareness, inadequate diagnostic facilities, high cost of treatment and high poverty index. It is quite unfortunate that even the human resource for health in oncology does not match the number of new patients. \n",
    "\n",
    "\n",
    "\n",
    "In this EDA, we will explore the 29 different types of cancers categorized into their respective body system for            Kenya from 2010-2019. Our main areas of focus are;\n",
    "* Annaul mortality trends\n",
    "* Mortality per cancer type\n",
    "* Cancer ancer deaths classified into different body systems \n",
    "* Reproductive vs digestive sytstem cancers\n",
    "\n",
    "*data source: The WHO Global Health Observatory*"
   ]
  },
  {
   "cell_type": "code",
   "execution_count": 2,
   "id": "a1e22bbf",
   "metadata": {},
   "outputs": [],
   "source": [
    "import pandas as pd\n",
    "import seaborn as sns\n",
    "import numpy as np\n",
    "import matplotlib.pyplot as plt\n",
    "import plotly.express as px\n",
    "import plotly.graph_objects as go"
   ]
  },
  {
   "cell_type": "code",
   "execution_count": 4,
   "id": "334d24a8",
   "metadata": {},
   "outputs": [],
   "source": [
    "cancer=pd.read_csv('cancer_deaths_by_type_Kenya (2010-19).csv', parse_dates=['Year'])"
   ]
  },
  {
   "cell_type": "code",
   "execution_count": 5,
   "id": "e087e680",
   "metadata": {},
   "outputs": [
    {
     "data": {
      "text/plain": [
       "(290, 5)"
      ]
     },
     "execution_count": 5,
     "metadata": {},
     "output_type": "execute_result"
    }
   ],
   "source": [
    "cancer.shape"
   ]
  },
  {
   "cell_type": "code",
   "execution_count": 6,
   "id": "51baafe4",
   "metadata": {},
   "outputs": [
    {
     "data": {
      "text/html": [
       "<div>\n",
       "<style scoped>\n",
       "    .dataframe tbody tr th:only-of-type {\n",
       "        vertical-align: middle;\n",
       "    }\n",
       "\n",
       "    .dataframe tbody tr th {\n",
       "        vertical-align: top;\n",
       "    }\n",
       "\n",
       "    .dataframe thead th {\n",
       "        text-align: right;\n",
       "    }\n",
       "</style>\n",
       "<table border=\"1\" class=\"dataframe\">\n",
       "  <thead>\n",
       "    <tr style=\"text-align: right;\">\n",
       "      <th></th>\n",
       "      <th>Cancer Type</th>\n",
       "      <th>Body System</th>\n",
       "      <th>Male or Female</th>\n",
       "      <th>Year</th>\n",
       "      <th>Total Deaths</th>\n",
       "    </tr>\n",
       "  </thead>\n",
       "  <tbody>\n",
       "    <tr>\n",
       "      <th>0</th>\n",
       "      <td>Liver cancer</td>\n",
       "      <td>Digestive</td>\n",
       "      <td>NaN</td>\n",
       "      <td>2019-01-01</td>\n",
       "      <td>724</td>\n",
       "    </tr>\n",
       "    <tr>\n",
       "      <th>1</th>\n",
       "      <td>Kidney cancer</td>\n",
       "      <td>Renal</td>\n",
       "      <td>NaN</td>\n",
       "      <td>2019-01-01</td>\n",
       "      <td>172</td>\n",
       "    </tr>\n",
       "    <tr>\n",
       "      <th>2</th>\n",
       "      <td>Lip and oral cavity cancer</td>\n",
       "      <td>Digestive</td>\n",
       "      <td>NaN</td>\n",
       "      <td>2019-01-01</td>\n",
       "      <td>887</td>\n",
       "    </tr>\n",
       "    <tr>\n",
       "      <th>3</th>\n",
       "      <td>Tracheal, bronchus, and lung cancer</td>\n",
       "      <td>Respiratory</td>\n",
       "      <td>NaN</td>\n",
       "      <td>2019-01-01</td>\n",
       "      <td>1282</td>\n",
       "    </tr>\n",
       "    <tr>\n",
       "      <th>4</th>\n",
       "      <td>Larynx cancer</td>\n",
       "      <td>Respiratory</td>\n",
       "      <td>NaN</td>\n",
       "      <td>2019-01-01</td>\n",
       "      <td>326</td>\n",
       "    </tr>\n",
       "    <tr>\n",
       "      <th>...</th>\n",
       "      <td>...</td>\n",
       "      <td>...</td>\n",
       "      <td>...</td>\n",
       "      <td>...</td>\n",
       "      <td>...</td>\n",
       "    </tr>\n",
       "    <tr>\n",
       "      <th>285</th>\n",
       "      <td>Nasopharynx cance</td>\n",
       "      <td>Respiratory</td>\n",
       "      <td>NaN</td>\n",
       "      <td>2010-01-01</td>\n",
       "      <td>359</td>\n",
       "    </tr>\n",
       "    <tr>\n",
       "      <th>286</th>\n",
       "      <td>Other pharynx cancer</td>\n",
       "      <td>Respiratory</td>\n",
       "      <td>NaN</td>\n",
       "      <td>2010-01-01</td>\n",
       "      <td>165</td>\n",
       "    </tr>\n",
       "    <tr>\n",
       "      <th>287</th>\n",
       "      <td>Colon and rectum cancer</td>\n",
       "      <td>Digestive</td>\n",
       "      <td>NaN</td>\n",
       "      <td>2010-01-01</td>\n",
       "      <td>1115</td>\n",
       "    </tr>\n",
       "    <tr>\n",
       "      <th>288</th>\n",
       "      <td>Non-melanoma skin cancer</td>\n",
       "      <td>Skin</td>\n",
       "      <td>NaN</td>\n",
       "      <td>2010-01-01</td>\n",
       "      <td>74</td>\n",
       "    </tr>\n",
       "    <tr>\n",
       "      <th>289</th>\n",
       "      <td>Mesothelioma</td>\n",
       "      <td>Other</td>\n",
       "      <td>NaN</td>\n",
       "      <td>2010-01-01</td>\n",
       "      <td>39</td>\n",
       "    </tr>\n",
       "  </tbody>\n",
       "</table>\n",
       "<p>290 rows × 5 columns</p>\n",
       "</div>"
      ],
      "text/plain": [
       "                             Cancer Type  Body System Male or Female  \\\n",
       "0                           Liver cancer    Digestive            NaN   \n",
       "1                          Kidney cancer        Renal            NaN   \n",
       "2             Lip and oral cavity cancer    Digestive            NaN   \n",
       "3    Tracheal, bronchus, and lung cancer  Respiratory            NaN   \n",
       "4                          Larynx cancer  Respiratory            NaN   \n",
       "..                                   ...          ...            ...   \n",
       "285                    Nasopharynx cance  Respiratory            NaN   \n",
       "286                 Other pharynx cancer  Respiratory            NaN   \n",
       "287              Colon and rectum cancer    Digestive            NaN   \n",
       "288             Non-melanoma skin cancer         Skin            NaN   \n",
       "289                         Mesothelioma        Other            NaN   \n",
       "\n",
       "          Year  Total Deaths  \n",
       "0   2019-01-01           724  \n",
       "1   2019-01-01           172  \n",
       "2   2019-01-01           887  \n",
       "3   2019-01-01          1282  \n",
       "4   2019-01-01           326  \n",
       "..         ...           ...  \n",
       "285 2010-01-01           359  \n",
       "286 2010-01-01           165  \n",
       "287 2010-01-01          1115  \n",
       "288 2010-01-01            74  \n",
       "289 2010-01-01            39  \n",
       "\n",
       "[290 rows x 5 columns]"
      ]
     },
     "execution_count": 6,
     "metadata": {},
     "output_type": "execute_result"
    }
   ],
   "source": [
    "cancer"
   ]
  },
  {
   "cell_type": "code",
   "execution_count": 7,
   "id": "116cb764",
   "metadata": {},
   "outputs": [
    {
     "name": "stdout",
     "output_type": "stream",
     "text": [
      "<class 'pandas.core.frame.DataFrame'>\n",
      "RangeIndex: 290 entries, 0 to 289\n",
      "Data columns (total 5 columns):\n",
      " #   Column          Non-Null Count  Dtype         \n",
      "---  ------          --------------  -----         \n",
      " 0   Cancer Type     290 non-null    object        \n",
      " 1   Body System     290 non-null    object        \n",
      " 2   Male or Female  60 non-null     object        \n",
      " 3   Year            290 non-null    datetime64[ns]\n",
      " 4   Total Deaths    290 non-null    int64         \n",
      "dtypes: datetime64[ns](1), int64(1), object(3)\n",
      "memory usage: 11.5+ KB\n"
     ]
    }
   ],
   "source": [
    "cancer.info()"
   ]
  },
  {
   "cell_type": "code",
   "execution_count": 8,
   "id": "1105eb84",
   "metadata": {},
   "outputs": [
    {
     "data": {
      "text/plain": [
       "185220"
      ]
     },
     "execution_count": 8,
     "metadata": {},
     "output_type": "execute_result"
    }
   ],
   "source": [
    "cancer['Total Deaths'].sum()"
   ]
  },
  {
   "cell_type": "code",
   "execution_count": 9,
   "id": "211bc579",
   "metadata": {},
   "outputs": [
    {
     "data": {
      "text/plain": [
       "count     290.000000\n",
       "mean      638.689655\n",
       "std       655.802992\n",
       "min        11.000000\n",
       "25%       142.250000\n",
       "50%       387.500000\n",
       "75%       863.000000\n",
       "max      2831.000000\n",
       "Name: Total Deaths, dtype: float64"
      ]
     },
     "execution_count": 9,
     "metadata": {},
     "output_type": "execute_result"
    }
   ],
   "source": [
    "cancer['Total Deaths'].describe()"
   ]
  },
  {
   "cell_type": "code",
   "execution_count": 34,
   "id": "f6d468ae",
   "metadata": {},
   "outputs": [
    {
     "name": "stderr",
     "output_type": "stream",
     "text": [
      "C:\\Users\\User\\AppData\\Local\\Temp\\ipykernel_20940\\521150636.py:1: FutureWarning:\n",
      "\n",
      "The default value of numeric_only in DataFrameGroupBy.sum is deprecated. In a future version, numeric_only will default to False. Either specify numeric_only or select only columns which should be valid for the function.\n",
      "\n"
     ]
    },
    {
     "name": "stdout",
     "output_type": "stream",
     "text": [
      "Year\n",
      "2010-01-01    15936\n",
      "2011-01-01    16515\n",
      "2012-01-01    17031\n",
      "2013-01-01    17540\n",
      "2014-01-01    18050\n",
      "2015-01-01    18575\n",
      "2016-01-01    19180\n",
      "2017-01-01    19907\n",
      "2018-01-01    20798\n",
      "2019-01-01    21688\n",
      "Name: Total Deaths, dtype: int64\n"
     ]
    },
    {
     "data": {
      "image/png": "[encoded data removed]",
      "text/plain": [
       "<Figure size 1000x600 with 1 Axes>"
      ]
     },
     "metadata": {},
     "output_type": "display_data"
    }
   ],
   "source": [
    "annual_deaths=cancer.groupby('Year').sum()['Total Deaths']\n",
    "print (annual_deaths)\n",
    "\n",
    "annual_deaths.plot(kind='line',color=('#F08080'),linestyle='-',marker='o',linewidth=0.9,figsize=(10,6))\n",
    "#plt.figure(figsize=(10, 6))\n",
    "#sns.lineplot(cancer=annual_deaths, x='Year', y='Total Deaths', marker='o')\n",
    "\n",
    "plt.xlabel('Year')\n",
    "plt.ylabel('Total Deaths')\n",
    "plt.title('Total Annual Deaths (2010-2019)')\n",
    "plt.show()"
   ]
  },
  {
   "cell_type": "code",
   "execution_count": 14,
   "id": "159ee88f",
   "metadata": {},
   "outputs": [
    {
     "name": "stdout",
     "output_type": "stream",
     "text": [
      "Cancer Type\n",
      "Esophageal cancer                          24402\n",
      "Breast cancer                              18885\n",
      "Stomach cancer                             18247\n",
      "Prostate cancer                            15484\n",
      "Cervical cancer                            15312\n",
      "Colon and rectum cancer                    13425\n",
      "Tracheal, bronchus, and lung cancer        10706\n",
      "Non-Hodgkin lymphoma                        7758\n",
      "Lip and oral cavity cancer                  7610\n",
      "Leukemia                                    7565\n",
      "Liver cancer                                6475\n",
      "Pancreatic cancer                           5422\n",
      "Brain and central nervous system cancer     4755\n",
      "Ovarian cancer                              4640\n",
      "Nasopharynx cance                           4106\n",
      "Larynx cancer                               2867\n",
      "Multiple myeloma                            2578\n",
      "Gallbladder and biliary tract cancer        2502\n",
      " Bladder cancer                             2460\n",
      "Other pharynx cancer                        1926\n",
      "Hodgkin lymphoma                            1547\n",
      "Kidney cancer                               1412\n",
      "Uterine cancer                              1313\n",
      "Malignant skin melanoma                     1146\n",
      "Non-melanoma skin cancer                     916\n",
      "Thyroid cancer                               621\n",
      "Other neoplasms                              551\n",
      "Mesothelioma                                 471\n",
      "Testicular cancer                            118\n",
      "Name: Total Deaths, dtype: int64\n"
     ]
    },
    {
     "name": "stderr",
     "output_type": "stream",
     "text": [
      "C:\\Users\\User\\AppData\\Local\\Temp\\ipykernel_20940\\3323202586.py:1: FutureWarning: The default value of numeric_only in DataFrameGroupBy.sum is deprecated. In a future version, numeric_only will default to False. Either specify numeric_only or select only columns which should be valid for the function.\n",
      "  cancer_deaths_by_type=cancer.groupby('Cancer Type').sum()['Total Deaths'].sort_values(ascending=False)\n"
     ]
    }
   ],
   "source": [
    "cancer_deaths_by_type=cancer.groupby('Cancer Type').sum()['Total Deaths'].sort_values(ascending=False)\n",
    "print (cancer_deaths_by_type)"
   ]
  },
  {
   "cell_type": "code",
   "execution_count": 17,
   "id": "bd3becf9",
   "metadata": {},
   "outputs": [
    {
     "name": "stdout",
     "output_type": "stream",
     "text": [
      "Cancer Type\n",
      "Esophageal cancer    24402\n",
      "Breast cancer        18885\n",
      "Stomach cancer       18247\n",
      "Prostate cancer      15484\n",
      "Cervical cancer      15312\n",
      "Name: Total Deaths, dtype: int64\n"
     ]
    },
    {
     "name": "stderr",
     "output_type": "stream",
     "text": [
      "C:\\Users\\User\\AppData\\Local\\Temp\\ipykernel_20940\\3920199993.py:1: FutureWarning: The default value of numeric_only in DataFrameGroupBy.sum is deprecated. In a future version, numeric_only will default to False. Either specify numeric_only or select only columns which should be valid for the function.\n",
      "  top5_cancer_types=cancer.groupby('Cancer Type').sum()['Total Deaths'].sort_values(ascending=False).head(5)\n"
     ]
    }
   ],
   "source": [
    "top5_cancer_types=cancer.groupby('Cancer Type').sum()['Total Deaths'].sort_values(ascending=False).head(5)\n",
    "print (top5_cancer_types)"
   ]
  },
  {
   "cell_type": "code",
   "execution_count": 18,
   "id": "a17d38db",
   "metadata": {},
   "outputs": [
    {
     "data": {
      "image/png": "[encoded data removed]",
      "text/plain": [
       "<Figure size 800x800 with 1 Axes>"
      ]
     },
     "metadata": {},
     "output_type": "display_data"
    }
   ],
   "source": [
    "top_5_cancers=['Esophageal cancer','Breast cancer','Stomach cancer','Prostate cancer','Cervical cancer']\n",
    "Deaths=[24402,18885,18247,15484,15312]\n",
    "sns.set(font_scale = 1.2)\n",
    "plt.figure(figsize=(8,8))\n",
    "plt.pie(x=Deaths, \n",
    "    labels=top_5_cancers,\n",
    "    autopct='%1.2f%%',\n",
    "    colors=sns.color_palette('Reds'),\n",
    "    explode=[0.05, 0.05, 0.05, 0.05, 0.05])\n",
    "plt.title('Top Five Cancers')\n",
    "plt.show()"
   ]
  },
  {
   "cell_type": "code",
   "execution_count": 21,
   "id": "e0fd06ca",
   "metadata": {
    "scrolled": false
   },
   "outputs": [
    {
     "name": "stderr",
     "output_type": "stream",
     "text": [
      "C:\\Users\\User\\AppData\\Local\\Temp\\ipykernel_20940\\4206357276.py:1: FutureWarning: The default value of numeric_only in DataFrameGroupBy.sum is deprecated. In a future version, numeric_only will default to False. Either specify numeric_only or select only columns which should be valid for the function.\n",
      "  cancer_deaths_by_body_system=cancer.groupby('Body System').sum()['Total Deaths'].sort_values(ascending=False)\n"
     ]
    },
    {
     "name": "stdout",
     "output_type": "stream",
     "text": [
      "Body System\n",
      "Digestive       78083\n",
      "Reproductive    55752\n",
      "Circulatory     19999\n",
      "Respiratory     19605\n",
      "Neuronal         4755\n",
      "Renal            3872\n",
      "Skin             2062\n",
      "Endocrine         621\n",
      "Other             471\n",
      "Name: Total Deaths, dtype: int64\n"
     ]
    },
    {
     "data": {
      "image/png": "[encoded data removed]",
      "text/plain": [
       "<Figure size 640x480 with 1 Axes>"
      ]
     },
     "metadata": {},
     "output_type": "display_data"
    }
   ],
   "source": [
    "cancer_deaths_by_body_system=cancer.groupby('Body System').sum()['Total Deaths'].sort_values(ascending=False)\n",
    "print (cancer_deaths_by_body_system)\n",
    "\n",
    "cancer_deaths_by_body_system.plot(kind='bar',color=sns.color_palette('Reds'))\n",
    "plt.xlabel('Body System')\n",
    "plt.ylabel('Total Deaths')\n",
    "plt.title('Total Deaths per Body System')\n",
    "plt.show()"
   ]
  },
  {
   "cell_type": "code",
   "execution_count": 27,
   "id": "84925851",
   "metadata": {},
   "outputs": [
    {
     "data": {
      "image/png": "[encoded data removed]",
      "text/plain": [
       "<Figure size 700x700 with 1 Axes>"
      ]
     },
     "metadata": {},
     "output_type": "display_data"
    }
   ],
   "source": [
    "Top_5_System_Cancers=['Digestive','Reproductive','Circulatory','Respiratory','Neuronal']\n",
    "Deaths=[78083,55752,19999,19605,4755]\n",
    "sns.set(font_scale = 1.2)\n",
    "plt.figure(figsize=(7,7))\n",
    "plt.pie(\n",
    "    x=Deaths, \n",
    "    labels=Top_5_System_Cancers,\n",
    "    colors=sns.color_palette('OrRd'),\n",
    "    startangle=90,\n",
    "    #percentages\n",
    "    autopct='%1.2f%%',\n",
    "    pctdistance=0.80,\n",
    "    explode=[0.05, 0.05, 0.05, 0.05, 0.05]\n",
    ")\n",
    "hole = plt.Circle((0, 0), 0.65, facecolor='white')\n",
    "plt.gcf().gca().add_artist(hole)\n",
    "plt.title('Top Five System Cancers')\n",
    "plt.show()"
   ]
  },
  {
   "cell_type": "code",
   "execution_count": 25,
   "id": "be5eb957",
   "metadata": {},
   "outputs": [
    {
     "data": {
      "application/vnd.plotly.v1+json": {
       "config": {
        "plotlyServerURL": "https://plot.ly"
       },
       "data": [
        {
         "branchvalues": "total",
         "customdata": [
          [
           "Skin"
          ],
          [
           "Circulatory"
          ],
          [
           "Renal"
          ],
          [
           "Respiratory"
          ],
          [
           "Circulatory"
          ],
          [
           "Respiratory"
          ],
          [
           "Respiratory"
          ],
          [
           "Renal"
          ],
          [
           "Endocrine"
          ],
          [
           "Circulatory"
          ],
          [
           "Endocrine"
          ],
          [
           "Digestive"
          ],
          [
           "Reproductive"
          ],
          [
           "Other"
          ],
          [
           "Renal"
          ],
          [
           "Reproductive"
          ],
          [
           "Digestive"
          ],
          [
           "Skin"
          ],
          [
           "Circulatory"
          ],
          [
           "Reproductive"
          ],
          [
           "Circulatory"
          ],
          [
           "Neuronal"
          ],
          [
           "Digestive"
          ],
          [
           "Skin"
          ],
          [
           "Digestive"
          ],
          [
           "Digestive"
          ],
          [
           "Circulatory"
          ],
          [
           "Respiratory"
          ],
          [
           "Reproductive"
          ],
          [
           "Digestive"
          ],
          [
           "Reproductive"
          ],
          [
           "Reproductive"
          ],
          [
           "Neuronal"
          ],
          [
           "Other"
          ],
          [
           "Digestive"
          ],
          [
           "Digestive"
          ],
          [
           "Respiratory"
          ],
          [
           "Reproductive"
          ]
         ],
         "domain": {
          "x": [
           0,
           1
          ],
          "y": [
           0,
           1
          ]
         },
         "hovertemplate": "labels=%{label}<br>Total Deaths=%{value}<br>parent=%{parent}<br>id=%{id}<br>Body System=%{customdata[0]}<extra></extra>",
         "ids": [
          "Skin",
          "Circulatory/Hodgkin lymphoma",
          "Renal/Kidney cancer",
          "Respiratory/Larynx cancer",
          "Circulatory/Leukemia",
          "Respiratory/Other pharynx cancer",
          "Respiratory",
          "Renal",
          "Endocrine",
          "Circulatory",
          "Endocrine/Thyroid cancer",
          "Digestive/Pancreatic cancer",
          "Reproductive/Ovarian cancer",
          "Other/Mesothelioma",
          "Renal/ Bladder cancer",
          "Reproductive/Breast cancer",
          "Digestive/Esophageal cancer",
          "Skin/Malignant skin melanoma",
          "Circulatory/Other neoplasms",
          "Reproductive/Uterine cancer",
          "Circulatory/Multiple myeloma",
          "Neuronal/Brain and central nervous system cancer",
          "Digestive",
          "Skin/Non-melanoma skin cancer",
          "Digestive/Lip and oral cavity cancer",
          "Digestive/Liver cancer",
          "Circulatory/Non-Hodgkin lymphoma",
          "Respiratory/Nasopharynx cance",
          "Reproductive/Prostate cancer",
          "Digestive/Stomach cancer",
          "Reproductive/Testicular cancer",
          "Reproductive/Cervical cancer",
          "Neuronal",
          "Other",
          "Digestive/Colon and rectum cancer",
          "Digestive/Gallbladder and biliary tract cancer",
          "Respiratory/Tracheal, bronchus, and lung cancer",
          "Reproductive"
         ],
         "labels": [
          "Skin",
          "Hodgkin lymphoma",
          "Kidney cancer",
          "Larynx cancer",
          "Leukemia",
          "Other pharynx cancer",
          "Respiratory",
          "Renal",
          "Endocrine",
          "Circulatory",
          "Thyroid cancer",
          "Pancreatic cancer",
          "Ovarian cancer",
          "Mesothelioma",
          " Bladder cancer",
          "Breast cancer",
          "Esophageal cancer",
          "Malignant skin melanoma",
          "Other neoplasms",
          "Uterine cancer",
          "Multiple myeloma",
          "Brain and central nervous system cancer",
          "Digestive",
          "Non-melanoma skin cancer",
          "Lip and oral cavity cancer",
          "Liver cancer",
          "Non-Hodgkin lymphoma",
          "Nasopharynx cance",
          "Prostate cancer",
          "Stomach cancer",
          "Testicular cancer",
          "Cervical cancer",
          "Neuronal",
          "Other",
          "Colon and rectum cancer",
          "Gallbladder and biliary tract cancer",
          "Tracheal, bronchus, and lung cancer",
          "Reproductive"
         ],
         "marker": {
          "colors": [
           "#FFB5C5",
           "#FFC0CB",
           "#FF82AB",
           "#EEA9B8",
           "#FFC0CB",
           "#EEA9B8",
           "#EEA9B8",
           "#FF82AB",
           "#FFBBFF",
           "#FFC0CB",
           "#FFBBFF",
           "#F08080",
           "#FF82AB",
           "#FFDAB9",
           "#FF82AB",
           "#FF82AB",
           "#F08080",
           "#FFB5C5",
           "#FFC0CB",
           "#FF82AB",
           "#FFC0CB",
           "#FFC1C1",
           "#F08080",
           "#FFB5C5",
           "#F08080",
           "#F08080",
           "#FFC0CB",
           "#EEA9B8",
           "#FF82AB",
           "#F08080",
           "#FF82AB",
           "#FF82AB",
           "#FFC1C1",
           "#FFDAB9",
           "#F08080",
           "#F08080",
           "#EEA9B8",
           "#FF82AB"
          ]
         },
         "name": "",
         "parents": [
          "",
          "Circulatory",
          "Renal",
          "Respiratory",
          "Circulatory",
          "Respiratory",
          "",
          "",
          "",
          "",
          "Endocrine",
          "Digestive",
          "Reproductive",
          "Other",
          "Renal",
          "Reproductive",
          "Digestive",
          "Skin",
          "Circulatory",
          "Reproductive",
          "Circulatory",
          "Neuronal",
          "",
          "Skin",
          "Digestive",
          "Digestive",
          "Circulatory",
          "Respiratory",
          "Reproductive",
          "Digestive",
          "Reproductive",
          "Reproductive",
          "",
          "",
          "Digestive",
          "Digestive",
          "Respiratory",
          ""
         ],
         "type": "sunburst",
         "values": [
          2062,
          1547,
          1412,
          2867,
          7565,
          1926,
          19605,
          3872,
          621,
          19999,
          621,
          5422,
          4640,
          471,
          2460,
          18885,
          24402,
          1146,
          551,
          1313,
          2578,
          4755,
          78083,
          916,
          7610,
          6475,
          7758,
          4106,
          15484,
          18247,
          118,
          15312,
          4755,
          471,
          13425,
          2502,
          10706,
          55752
         ]
        }
       ],
       "layout": {
        "legend": {
         "tracegroupgap": 0
        },
        "margin": {
         "t": 60
        },
        "template": {
         "data": {
          "bar": [
           {
            "error_x": {
             "color": "#2a3f5f"
            },
            "error_y": {
             "color": "#2a3f5f"
            },
            "marker": {
             "line": {
              "color": "#E5ECF6",
              "width": 0.5
             },
             "pattern": {
              "fillmode": "overlay",
              "size": 10,
              "solidity": 0.2
             }
            },
            "type": "bar"
           }
          ],
          "barpolar": [
           {
            "marker": {
             "line": {
              "color": "#E5ECF6",
              "width": 0.5
             },
             "pattern": {
              "fillmode": "overlay",
              "size": 10,
              "solidity": 0.2
             }
            },
            "type": "barpolar"
           }
          ],
          "carpet": [
           {
            "aaxis": {
             "endlinecolor": "#2a3f5f",
             "gridcolor": "white",
             "linecolor": "white",
             "minorgridcolor": "white",
             "startlinecolor": "#2a3f5f"
            },
            "baxis": {
             "endlinecolor": "#2a3f5f",
             "gridcolor": "white",
             "linecolor": "white",
             "minorgridcolor": "white",
             "startlinecolor": "#2a3f5f"
            },
            "type": "carpet"
           }
          ],
          "choropleth": [
           {
            "colorbar": {
             "outlinewidth": 0,
             "ticks": ""
            },
            "type": "choropleth"
           }
          ],
          "contour": [
           {
            "colorbar": {
             "outlinewidth": 0,
             "ticks": ""
            },
            "colorscale": [
             [
              0,
              "#0d0887"
             ],
             [
              0.1111111111111111,
              "#46039f"
             ],
             [
              0.2222222222222222,
              "#7201a8"
             ],
             [
              0.3333333333333333,
              "#9c179e"
             ],
             [
              0.4444444444444444,
              "#bd3786"
             ],
             [
              0.5555555555555556,
              "#d8576b"
             ],
             [
              0.6666666666666666,
              "#ed7953"
             ],
             [
              0.7777777777777778,
              "#fb9f3a"
             ],
             [
              0.8888888888888888,
              "#fdca26"
             ],
             [
              1,
              "#f0f921"
             ]
            ],
            "type": "contour"
           }
          ],
          "contourcarpet": [
           {
            "colorbar": {
             "outlinewidth": 0,
             "ticks": ""
            },
            "type": "contourcarpet"
           }
          ],
          "heatmap": [
           {
            "colorbar": {
             "outlinewidth": 0,
             "ticks": ""
            },
            "colorscale": [
             [
              0,
              "#0d0887"
             ],
             [
              0.1111111111111111,
              "#46039f"
             ],
             [
              0.2222222222222222,
              "#7201a8"
             ],
             [
              0.3333333333333333,
              "#9c179e"
             ],
             [
              0.4444444444444444,
              "#bd3786"
             ],
             [
              0.5555555555555556,
              "#d8576b"
             ],
             [
              0.6666666666666666,
              "#ed7953"
             ],
             [
              0.7777777777777778,
              "#fb9f3a"
             ],
             [
              0.8888888888888888,
              "#fdca26"
             ],
             [
              1,
              "#f0f921"
             ]
            ],
            "type": "heatmap"
           }
          ],
          "heatmapgl": [
           {
            "colorbar": {
             "outlinewidth": 0,
             "ticks": ""
            },
            "colorscale": [
             [
              0,
              "#0d0887"
             ],
             [
              0.1111111111111111,
              "#46039f"
             ],
             [
              0.2222222222222222,
              "#7201a8"
             ],
             [
              0.3333333333333333,
              "#9c179e"
             ],
             [
              0.4444444444444444,
              "#bd3786"
             ],
             [
              0.5555555555555556,
              "#d8576b"
             ],
             [
              0.6666666666666666,
              "#ed7953"
             ],
             [
              0.7777777777777778,
              "#fb9f3a"
             ],
             [
              0.8888888888888888,
              "#fdca26"
             ],
             [
              1,
              "#f0f921"
             ]
            ],
            "type": "heatmapgl"
           }
          ],
          "histogram": [
           {
            "marker": {
             "pattern": {
              "fillmode": "overlay",
              "size": 10,
              "solidity": 0.2
             }
            },
            "type": "histogram"
           }
          ],
          "histogram2d": [
           {
            "colorbar": {
             "outlinewidth": 0,
             "ticks": ""
            },
            "colorscale": [
             [
              0,
              "#0d0887"
             ],
             [
              0.1111111111111111,
              "#46039f"
             ],
             [
              0.2222222222222222,
              "#7201a8"
             ],
             [
              0.3333333333333333,
              "#9c179e"
             ],
             [
              0.4444444444444444,
              "#bd3786"
             ],
             [
              0.5555555555555556,
              "#d8576b"
             ],
             [
              0.6666666666666666,
              "#ed7953"
             ],
             [
              0.7777777777777778,
              "#fb9f3a"
             ],
             [
              0.8888888888888888,
              "#fdca26"
             ],
             [
              1,
              "#f0f921"
             ]
            ],
            "type": "histogram2d"
           }
          ],
          "histogram2dcontour": [
           {
            "colorbar": {
             "outlinewidth": 0,
             "ticks": ""
            },
            "colorscale": [
             [
              0,
              "#0d0887"
             ],
             [
              0.1111111111111111,
              "#46039f"
             ],
             [
              0.2222222222222222,
              "#7201a8"
             ],
             [
              0.3333333333333333,
              "#9c179e"
             ],
             [
              0.4444444444444444,
              "#bd3786"
             ],
             [
              0.5555555555555556,
              "#d8576b"
             ],
             [
              0.6666666666666666,
              "#ed7953"
             ],
             [
              0.7777777777777778,
              "#fb9f3a"
             ],
             [
              0.8888888888888888,
              "#fdca26"
             ],
             [
              1,
              "#f0f921"
             ]
            ],
            "type": "histogram2dcontour"
           }
          ],
          "mesh3d": [
           {
            "colorbar": {
             "outlinewidth": 0,
             "ticks": ""
            },
            "type": "mesh3d"
           }
          ],
          "parcoords": [
           {
            "line": {
             "colorbar": {
              "outlinewidth": 0,
              "ticks": ""
             }
            },
            "type": "parcoords"
           }
          ],
          "pie": [
           {
            "automargin": true,
            "type": "pie"
           }
          ],
          "scatter": [
           {
            "fillpattern": {
             "fillmode": "overlay",
             "size": 10,
             "solidity": 0.2
            },
            "type": "scatter"
           }
          ],
          "scatter3d": [
           {
            "line": {
             "colorbar": {
              "outlinewidth": 0,
              "ticks": ""
             }
            },
            "marker": {
             "colorbar": {
              "outlinewidth": 0,
              "ticks": ""
             }
            },
            "type": "scatter3d"
           }
          ],
          "scattercarpet": [
           {
            "marker": {
             "colorbar": {
              "outlinewidth": 0,
              "ticks": ""
             }
            },
            "type": "scattercarpet"
           }
          ],
          "scattergeo": [
           {
            "marker": {
             "colorbar": {
              "outlinewidth": 0,
              "ticks": ""
             }
            },
            "type": "scattergeo"
           }
          ],
          "scattergl": [
           {
            "marker": {
             "colorbar": {
              "outlinewidth": 0,
              "ticks": ""
             }
            },
            "type": "scattergl"
           }
          ],
          "scattermapbox": [
           {
            "marker": {
             "colorbar": {
              "outlinewidth": 0,
              "ticks": ""
             }
            },
            "type": "scattermapbox"
           }
          ],
          "scatterpolar": [
           {
            "marker": {
             "colorbar": {
              "outlinewidth": 0,
              "ticks": ""
             }
            },
            "type": "scatterpolar"
           }
          ],
          "scatterpolargl": [
           {
            "marker": {
             "colorbar": {
              "outlinewidth": 0,
              "ticks": ""
             }
            },
            "type": "scatterpolargl"
           }
          ],
          "scatterternary": [
           {
            "marker": {
             "colorbar": {
              "outlinewidth": 0,
              "ticks": ""
             }
            },
            "type": "scatterternary"
           }
          ],
          "surface": [
           {
            "colorbar": {
             "outlinewidth": 0,
             "ticks": ""
            },
            "colorscale": [
             [
              0,
              "#0d0887"
             ],
             [
              0.1111111111111111,
              "#46039f"
             ],
             [
              0.2222222222222222,
              "#7201a8"
             ],
             [
              0.3333333333333333,
              "#9c179e"
             ],
             [
              0.4444444444444444,
              "#bd3786"
             ],
             [
              0.5555555555555556,
              "#d8576b"
             ],
             [
              0.6666666666666666,
              "#ed7953"
             ],
             [
              0.7777777777777778,
              "#fb9f3a"
             ],
             [
              0.8888888888888888,
              "#fdca26"
             ],
             [
              1,
              "#f0f921"
             ]
            ],
            "type": "surface"
           }
          ],
          "table": [
           {
            "cells": {
             "fill": {
              "color": "#EBF0F8"
             },
             "line": {
              "color": "white"
             }
            },
            "header": {
             "fill": {
              "color": "#C8D4E3"
             },
             "line": {
              "color": "white"
             }
            },
            "type": "table"
           }
          ]
         },
         "layout": {
          "annotationdefaults": {
           "arrowcolor": "#2a3f5f",
           "arrowhead": 0,
           "arrowwidth": 1
          },
          "autotypenumbers": "strict",
          "coloraxis": {
           "colorbar": {
            "outlinewidth": 0,
            "ticks": ""
           }
          },
          "colorscale": {
           "diverging": [
            [
             0,
             "#8e0152"
            ],
            [
             0.1,
             "#c51b7d"
            ],
            [
             0.2,
             "#de77ae"
            ],
            [
             0.3,
             "#f1b6da"
            ],
            [
             0.4,
             "#fde0ef"
            ],
            [
             0.5,
             "#f7f7f7"
            ],
            [
             0.6,
             "#e6f5d0"
            ],
            [
             0.7,
             "#b8e186"
            ],
            [
             0.8,
             "#7fbc41"
            ],
            [
             0.9,
             "#4d9221"
            ],
            [
             1,
             "#276419"
            ]
           ],
           "sequential": [
            [
             0,
             "#0d0887"
            ],
            [
             0.1111111111111111,
             "#46039f"
            ],
            [
             0.2222222222222222,
             "#7201a8"
            ],
            [
             0.3333333333333333,
             "#9c179e"
            ],
            [
             0.4444444444444444,
             "#bd3786"
            ],
            [
             0.5555555555555556,
             "#d8576b"
            ],
            [
             0.6666666666666666,
             "#ed7953"
            ],
            [
             0.7777777777777778,
             "#fb9f3a"
            ],
            [
             0.8888888888888888,
             "#fdca26"
            ],
            [
             1,
             "#f0f921"
            ]
           ],
           "sequentialminus": [
            [
             0,
             "#0d0887"
            ],
            [
             0.1111111111111111,
             "#46039f"
            ],
            [
             0.2222222222222222,
             "#7201a8"
            ],
            [
             0.3333333333333333,
             "#9c179e"
            ],
            [
             0.4444444444444444,
             "#bd3786"
            ],
            [
             0.5555555555555556,
             "#d8576b"
            ],
            [
             0.6666666666666666,
             "#ed7953"
            ],
            [
             0.7777777777777778,
             "#fb9f3a"
            ],
            [
             0.8888888888888888,
             "#fdca26"
            ],
            [
             1,
             "#f0f921"
            ]
           ]
          },
          "colorway": [
           "#636efa",
           "#EF553B",
           "#00cc96",
           "#ab63fa",
           "#FFA15A",
           "#19d3f3",
           "#FF6692",
           "#B6E880",
           "#FF97FF",
           "#FECB52"
          ],
          "font": {
           "color": "#2a3f5f"
          },
          "geo": {
           "bgcolor": "white",
           "lakecolor": "white",
           "landcolor": "#E5ECF6",
           "showlakes": true,
           "showland": true,
           "subunitcolor": "white"
          },
          "hoverlabel": {
           "align": "left"
          },
          "hovermode": "closest",
          "mapbox": {
           "style": "light"
          },
          "paper_bgcolor": "white",
          "plot_bgcolor": "#E5ECF6",
          "polar": {
           "angularaxis": {
            "gridcolor": "white",
            "linecolor": "white",
            "ticks": ""
           },
           "bgcolor": "#E5ECF6",
           "radialaxis": {
            "gridcolor": "white",
            "linecolor": "white",
            "ticks": ""
           }
          },
          "scene": {
           "xaxis": {
            "backgroundcolor": "#E5ECF6",
            "gridcolor": "white",
            "gridwidth": 2,
            "linecolor": "white",
            "showbackground": true,
            "ticks": "",
            "zerolinecolor": "white"
           },
           "yaxis": {
            "backgroundcolor": "#E5ECF6",
            "gridcolor": "white",
            "gridwidth": 2,
            "linecolor": "white",
            "showbackground": true,
            "ticks": "",
            "zerolinecolor": "white"
           },
           "zaxis": {
            "backgroundcolor": "#E5ECF6",
            "gridcolor": "white",
            "gridwidth": 2,
            "linecolor": "white",
            "showbackground": true,
            "ticks": "",
            "zerolinecolor": "white"
           }
          },
          "shapedefaults": {
           "line": {
            "color": "#2a3f5f"
           }
          },
          "ternary": {
           "aaxis": {
            "gridcolor": "white",
            "linecolor": "white",
            "ticks": ""
           },
           "baxis": {
            "gridcolor": "white",
            "linecolor": "white",
            "ticks": ""
           },
           "bgcolor": "#E5ECF6",
           "caxis": {
            "gridcolor": "white",
            "linecolor": "white",
            "ticks": ""
           }
          },
          "title": {
           "x": 0.05
          },
          "xaxis": {
           "automargin": true,
           "gridcolor": "white",
           "linecolor": "white",
           "ticks": "",
           "title": {
            "standoff": 15
           },
           "zerolinecolor": "white",
           "zerolinewidth": 2
          },
          "yaxis": {
           "automargin": true,
           "gridcolor": "white",
           "linecolor": "white",
           "ticks": "",
           "title": {
            "standoff": 15
           },
           "zerolinecolor": "white",
           "zerolinewidth": 2
          }
         }
        },
        "title": {
         "text": "Cancer Deaths by Type Cassified into Specific System (2010-2019)",
         "x": 0
        }
       }
      },
      "text/html": [
       "<div>                            <div id=\"d19bdfaa-eee3-411b-8ae4-392817fd4317\" class=\"plotly-graph-div\" style=\"height:525px; width:100%;\"></div>            <script type=\"text/javascript\">                require([\"plotly\"], function(Plotly) {                    window.PLOTLYENV=window.PLOTLYENV || {};                                    if (document.getElementById(\"d19bdfaa-eee3-411b-8ae4-392817fd4317\")) {                    Plotly.newPlot(                        \"d19bdfaa-eee3-411b-8ae4-392817fd4317\",                        [{\"branchvalues\":\"total\",\"customdata\":[[\"Skin\"],[\"Circulatory\"],[\"Renal\"],[\"Respiratory\"],[\"Circulatory\"],[\"Respiratory\"],[\"Respiratory\"],[\"Renal\"],[\"Endocrine\"],[\"Circulatory\"],[\"Endocrine\"],[\"Digestive\"],[\"Reproductive\"],[\"Other\"],[\"Renal\"],[\"Reproductive\"],[\"Digestive\"],[\"Skin\"],[\"Circulatory\"],[\"Reproductive\"],[\"Circulatory\"],[\"Neuronal\"],[\"Digestive\"],[\"Skin\"],[\"Digestive\"],[\"Digestive\"],[\"Circulatory\"],[\"Respiratory\"],[\"Reproductive\"],[\"Digestive\"],[\"Reproductive\"],[\"Reproductive\"],[\"Neuronal\"],[\"Other\"],[\"Digestive\"],[\"Digestive\"],[\"Respiratory\"],[\"Reproductive\"]],\"domain\":{\"x\":[0.0,1.0],\"y\":[0.0,1.0]},\"hovertemplate\":\"labels=%{label}<br>Total Deaths=%{value}<br>parent=%{parent}<br>id=%{id}<br>Body System=%{customdata[0]}<extra></extra>\",\"ids\":[\"Skin\",\"Circulatory/Hodgkin lymphoma\",\"Renal/Kidney cancer\",\"Respiratory/Larynx cancer\",\"Circulatory/Leukemia\",\"Respiratory/Other pharynx cancer\",\"Respiratory\",\"Renal\",\"Endocrine\",\"Circulatory\",\"Endocrine/Thyroid cancer\",\"Digestive/Pancreatic cancer\",\"Reproductive/Ovarian cancer\",\"Other/Mesothelioma\",\"Renal/ Bladder cancer\",\"Reproductive/Breast cancer\",\"Digestive/Esophageal cancer\",\"Skin/Malignant skin melanoma\",\"Circulatory/Other neoplasms\",\"Reproductive/Uterine cancer\",\"Circulatory/Multiple myeloma\",\"Neuronal/Brain and central nervous system cancer\",\"Digestive\",\"Skin/Non-melanoma skin cancer\",\"Digestive/Lip and oral cavity cancer\",\"Digestive/Liver cancer\",\"Circulatory/Non-Hodgkin lymphoma\",\"Respiratory/Nasopharynx cance\",\"Reproductive/Prostate cancer\",\"Digestive/Stomach cancer\",\"Reproductive/Testicular cancer\",\"Reproductive/Cervical cancer\",\"Neuronal\",\"Other\",\"Digestive/Colon and rectum cancer\",\"Digestive/Gallbladder and biliary tract cancer\",\"Respiratory/Tracheal, bronchus, and lung cancer\",\"Reproductive\"],\"labels\":[\"Skin\",\"Hodgkin lymphoma\",\"Kidney cancer\",\"Larynx cancer\",\"Leukemia\",\"Other pharynx cancer\",\"Respiratory\",\"Renal\",\"Endocrine\",\"Circulatory\",\"Thyroid cancer\",\"Pancreatic cancer\",\"Ovarian cancer\",\"Mesothelioma\",\" Bladder cancer\",\"Breast cancer\",\"Esophageal cancer\",\"Malignant skin melanoma\",\"Other neoplasms\",\"Uterine cancer\",\"Multiple myeloma\",\"Brain and central nervous system cancer\",\"Digestive\",\"Non-melanoma skin cancer\",\"Lip and oral cavity cancer\",\"Liver cancer\",\"Non-Hodgkin lymphoma\",\"Nasopharynx cance\",\"Prostate cancer\",\"Stomach cancer\",\"Testicular cancer\",\"Cervical cancer\",\"Neuronal\",\"Other\",\"Colon and rectum cancer\",\"Gallbladder and biliary tract cancer\",\"Tracheal, bronchus, and lung cancer\",\"Reproductive\"],\"marker\":{\"colors\":[\"#FFB5C5\",\"#FFC0CB\",\"#FF82AB\",\"#EEA9B8\",\"#FFC0CB\",\"#EEA9B8\",\"#EEA9B8\",\"#FF82AB\",\"#FFBBFF\",\"#FFC0CB\",\"#FFBBFF\",\"#F08080\",\"#FF82AB\",\"#FFDAB9\",\"#FF82AB\",\"#FF82AB\",\"#F08080\",\"#FFB5C5\",\"#FFC0CB\",\"#FF82AB\",\"#FFC0CB\",\"#FFC1C1\",\"#F08080\",\"#FFB5C5\",\"#F08080\",\"#F08080\",\"#FFC0CB\",\"#EEA9B8\",\"#FF82AB\",\"#F08080\",\"#FF82AB\",\"#FF82AB\",\"#FFC1C1\",\"#FFDAB9\",\"#F08080\",\"#F08080\",\"#EEA9B8\",\"#FF82AB\"]},\"name\":\"\",\"parents\":[\"\",\"Circulatory\",\"Renal\",\"Respiratory\",\"Circulatory\",\"Respiratory\",\"\",\"\",\"\",\"\",\"Endocrine\",\"Digestive\",\"Reproductive\",\"Other\",\"Renal\",\"Reproductive\",\"Digestive\",\"Skin\",\"Circulatory\",\"Reproductive\",\"Circulatory\",\"Neuronal\",\"\",\"Skin\",\"Digestive\",\"Digestive\",\"Circulatory\",\"Respiratory\",\"Reproductive\",\"Digestive\",\"Reproductive\",\"Reproductive\",\"\",\"\",\"Digestive\",\"Digestive\",\"Respiratory\",\"\"],\"values\":[2062,1547,1412,2867,7565,1926,19605,3872,621,19999,621,5422,4640,471,2460,18885,24402,1146,551,1313,2578,4755,78083,916,7610,6475,7758,4106,15484,18247,118,15312,4755,471,13425,2502,10706,55752],\"type\":\"sunburst\"}],                        {\"template\":{\"data\":{\"histogram2dcontour\":[{\"type\":\"histogram2dcontour\",\"colorbar\":{\"outlinewidth\":0,\"ticks\":\"\"},\"colorscale\":[[0.0,\"#0d0887\"],[0.1111111111111111,\"#46039f\"],[0.2222222222222222,\"#7201a8\"],[0.3333333333333333,\"#9c179e\"],[0.4444444444444444,\"#bd3786\"],[0.5555555555555556,\"#d8576b\"],[0.6666666666666666,\"#ed7953\"],[0.7777777777777778,\"#fb9f3a\"],[0.8888888888888888,\"#fdca26\"],[1.0,\"#f0f921\"]]}],\"choropleth\":[{\"type\":\"choropleth\",\"colorbar\":{\"outlinewidth\":0,\"ticks\":\"\"}}],\"histogram2d\":[{\"type\":\"histogram2d\",\"colorbar\":{\"outlinewidth\":0,\"ticks\":\"\"},\"colorscale\":[[0.0,\"#0d0887\"],[0.1111111111111111,\"#46039f\"],[0.2222222222222222,\"#7201a8\"],[0.3333333333333333,\"#9c179e\"],[0.4444444444444444,\"#bd3786\"],[0.5555555555555556,\"#d8576b\"],[0.6666666666666666,\"#ed7953\"],[0.7777777777777778,\"#fb9f3a\"],[0.8888888888888888,\"#fdca26\"],[1.0,\"#f0f921\"]]}],\"heatmap\":[{\"type\":\"heatmap\",\"colorbar\":{\"outlinewidth\":0,\"ticks\":\"\"},\"colorscale\":[[0.0,\"#0d0887\"],[0.1111111111111111,\"#46039f\"],[0.2222222222222222,\"#7201a8\"],[0.3333333333333333,\"#9c179e\"],[0.4444444444444444,\"#bd3786\"],[0.5555555555555556,\"#d8576b\"],[0.6666666666666666,\"#ed7953\"],[0.7777777777777778,\"#fb9f3a\"],[0.8888888888888888,\"#fdca26\"],[1.0,\"#f0f921\"]]}],\"heatmapgl\":[{\"type\":\"heatmapgl\",\"colorbar\":{\"outlinewidth\":0,\"ticks\":\"\"},\"colorscale\":[[0.0,\"#0d0887\"],[0.1111111111111111,\"#46039f\"],[0.2222222222222222,\"#7201a8\"],[0.3333333333333333,\"#9c179e\"],[0.4444444444444444,\"#bd3786\"],[0.5555555555555556,\"#d8576b\"],[0.6666666666666666,\"#ed7953\"],[0.7777777777777778,\"#fb9f3a\"],[0.8888888888888888,\"#fdca26\"],[1.0,\"#f0f921\"]]}],\"contourcarpet\":[{\"type\":\"contourcarpet\",\"colorbar\":{\"outlinewidth\":0,\"ticks\":\"\"}}],\"contour\":[{\"type\":\"contour\",\"colorbar\":{\"outlinewidth\":0,\"ticks\":\"\"},\"colorscale\":[[0.0,\"#0d0887\"],[0.1111111111111111,\"#46039f\"],[0.2222222222222222,\"#7201a8\"],[0.3333333333333333,\"#9c179e\"],[0.4444444444444444,\"#bd3786\"],[0.5555555555555556,\"#d8576b\"],[0.6666666666666666,\"#ed7953\"],[0.7777777777777778,\"#fb9f3a\"],[0.8888888888888888,\"#fdca26\"],[1.0,\"#f0f921\"]]}],\"surface\":[{\"type\":\"surface\",\"colorbar\":{\"outlinewidth\":0,\"ticks\":\"\"},\"colorscale\":[[0.0,\"#0d0887\"],[0.1111111111111111,\"#46039f\"],[0.2222222222222222,\"#7201a8\"],[0.3333333333333333,\"#9c179e\"],[0.4444444444444444,\"#bd3786\"],[0.5555555555555556,\"#d8576b\"],[0.6666666666666666,\"#ed7953\"],[0.7777777777777778,\"#fb9f3a\"],[0.8888888888888888,\"#fdca26\"],[1.0,\"#f0f921\"]]}],\"mesh3d\":[{\"type\":\"mesh3d\",\"colorbar\":{\"outlinewidth\":0,\"ticks\":\"\"}}],\"scatter\":[{\"fillpattern\":{\"fillmode\":\"overlay\",\"size\":10,\"solidity\":0.2},\"type\":\"scatter\"}],\"parcoords\":[{\"type\":\"parcoords\",\"line\":{\"colorbar\":{\"outlinewidth\":0,\"ticks\":\"\"}}}],\"scatterpolargl\":[{\"type\":\"scatterpolargl\",\"marker\":{\"colorbar\":{\"outlinewidth\":0,\"ticks\":\"\"}}}],\"bar\":[{\"error_x\":{\"color\":\"#2a3f5f\"},\"error_y\":{\"color\":\"#2a3f5f\"},\"marker\":{\"line\":{\"color\":\"#E5ECF6\",\"width\":0.5},\"pattern\":{\"fillmode\":\"overlay\",\"size\":10,\"solidity\":0.2}},\"type\":\"bar\"}],\"scattergeo\":[{\"type\":\"scattergeo\",\"marker\":{\"colorbar\":{\"outlinewidth\":0,\"ticks\":\"\"}}}],\"scatterpolar\":[{\"type\":\"scatterpolar\",\"marker\":{\"colorbar\":{\"outlinewidth\":0,\"ticks\":\"\"}}}],\"histogram\":[{\"marker\":{\"pattern\":{\"fillmode\":\"overlay\",\"size\":10,\"solidity\":0.2}},\"type\":\"histogram\"}],\"scattergl\":[{\"type\":\"scattergl\",\"marker\":{\"colorbar\":{\"outlinewidth\":0,\"ticks\":\"\"}}}],\"scatter3d\":[{\"type\":\"scatter3d\",\"line\":{\"colorbar\":{\"outlinewidth\":0,\"ticks\":\"\"}},\"marker\":{\"colorbar\":{\"outlinewidth\":0,\"ticks\":\"\"}}}],\"scattermapbox\":[{\"type\":\"scattermapbox\",\"marker\":{\"colorbar\":{\"outlinewidth\":0,\"ticks\":\"\"}}}],\"scatterternary\":[{\"type\":\"scatterternary\",\"marker\":{\"colorbar\":{\"outlinewidth\":0,\"ticks\":\"\"}}}],\"scattercarpet\":[{\"type\":\"scattercarpet\",\"marker\":{\"colorbar\":{\"outlinewidth\":0,\"ticks\":\"\"}}}],\"carpet\":[{\"aaxis\":{\"endlinecolor\":\"#2a3f5f\",\"gridcolor\":\"white\",\"linecolor\":\"white\",\"minorgridcolor\":\"white\",\"startlinecolor\":\"#2a3f5f\"},\"baxis\":{\"endlinecolor\":\"#2a3f5f\",\"gridcolor\":\"white\",\"linecolor\":\"white\",\"minorgridcolor\":\"white\",\"startlinecolor\":\"#2a3f5f\"},\"type\":\"carpet\"}],\"table\":[{\"cells\":{\"fill\":{\"color\":\"#EBF0F8\"},\"line\":{\"color\":\"white\"}},\"header\":{\"fill\":{\"color\":\"#C8D4E3\"},\"line\":{\"color\":\"white\"}},\"type\":\"table\"}],\"barpolar\":[{\"marker\":{\"line\":{\"color\":\"#E5ECF6\",\"width\":0.5},\"pattern\":{\"fillmode\":\"overlay\",\"size\":10,\"solidity\":0.2}},\"type\":\"barpolar\"}],\"pie\":[{\"automargin\":true,\"type\":\"pie\"}]},\"layout\":{\"autotypenumbers\":\"strict\",\"colorway\":[\"#636efa\",\"#EF553B\",\"#00cc96\",\"#ab63fa\",\"#FFA15A\",\"#19d3f3\",\"#FF6692\",\"#B6E880\",\"#FF97FF\",\"#FECB52\"],\"font\":{\"color\":\"#2a3f5f\"},\"hovermode\":\"closest\",\"hoverlabel\":{\"align\":\"left\"},\"paper_bgcolor\":\"white\",\"plot_bgcolor\":\"#E5ECF6\",\"polar\":{\"bgcolor\":\"#E5ECF6\",\"angularaxis\":{\"gridcolor\":\"white\",\"linecolor\":\"white\",\"ticks\":\"\"},\"radialaxis\":{\"gridcolor\":\"white\",\"linecolor\":\"white\",\"ticks\":\"\"}},\"ternary\":{\"bgcolor\":\"#E5ECF6\",\"aaxis\":{\"gridcolor\":\"white\",\"linecolor\":\"white\",\"ticks\":\"\"},\"baxis\":{\"gridcolor\":\"white\",\"linecolor\":\"white\",\"ticks\":\"\"},\"caxis\":{\"gridcolor\":\"white\",\"linecolor\":\"white\",\"ticks\":\"\"}},\"coloraxis\":{\"colorbar\":{\"outlinewidth\":0,\"ticks\":\"\"}},\"colorscale\":{\"sequential\":[[0.0,\"#0d0887\"],[0.1111111111111111,\"#46039f\"],[0.2222222222222222,\"#7201a8\"],[0.3333333333333333,\"#9c179e\"],[0.4444444444444444,\"#bd3786\"],[0.5555555555555556,\"#d8576b\"],[0.6666666666666666,\"#ed7953\"],[0.7777777777777778,\"#fb9f3a\"],[0.8888888888888888,\"#fdca26\"],[1.0,\"#f0f921\"]],\"sequentialminus\":[[0.0,\"#0d0887\"],[0.1111111111111111,\"#46039f\"],[0.2222222222222222,\"#7201a8\"],[0.3333333333333333,\"#9c179e\"],[0.4444444444444444,\"#bd3786\"],[0.5555555555555556,\"#d8576b\"],[0.6666666666666666,\"#ed7953\"],[0.7777777777777778,\"#fb9f3a\"],[0.8888888888888888,\"#fdca26\"],[1.0,\"#f0f921\"]],\"diverging\":[[0,\"#8e0152\"],[0.1,\"#c51b7d\"],[0.2,\"#de77ae\"],[0.3,\"#f1b6da\"],[0.4,\"#fde0ef\"],[0.5,\"#f7f7f7\"],[0.6,\"#e6f5d0\"],[0.7,\"#b8e186\"],[0.8,\"#7fbc41\"],[0.9,\"#4d9221\"],[1,\"#276419\"]]},\"xaxis\":{\"gridcolor\":\"white\",\"linecolor\":\"white\",\"ticks\":\"\",\"title\":{\"standoff\":15},\"zerolinecolor\":\"white\",\"automargin\":true,\"zerolinewidth\":2},\"yaxis\":{\"gridcolor\":\"white\",\"linecolor\":\"white\",\"ticks\":\"\",\"title\":{\"standoff\":15},\"zerolinecolor\":\"white\",\"automargin\":true,\"zerolinewidth\":2},\"scene\":{\"xaxis\":{\"backgroundcolor\":\"#E5ECF6\",\"gridcolor\":\"white\",\"linecolor\":\"white\",\"showbackground\":true,\"ticks\":\"\",\"zerolinecolor\":\"white\",\"gridwidth\":2},\"yaxis\":{\"backgroundcolor\":\"#E5ECF6\",\"gridcolor\":\"white\",\"linecolor\":\"white\",\"showbackground\":true,\"ticks\":\"\",\"zerolinecolor\":\"white\",\"gridwidth\":2},\"zaxis\":{\"backgroundcolor\":\"#E5ECF6\",\"gridcolor\":\"white\",\"linecolor\":\"white\",\"showbackground\":true,\"ticks\":\"\",\"zerolinecolor\":\"white\",\"gridwidth\":2}},\"shapedefaults\":{\"line\":{\"color\":\"#2a3f5f\"}},\"annotationdefaults\":{\"arrowcolor\":\"#2a3f5f\",\"arrowhead\":0,\"arrowwidth\":1},\"geo\":{\"bgcolor\":\"white\",\"landcolor\":\"#E5ECF6\",\"subunitcolor\":\"white\",\"showland\":true,\"showlakes\":true,\"lakecolor\":\"white\"},\"title\":{\"x\":0.05},\"mapbox\":{\"style\":\"light\"}}},\"legend\":{\"tracegroupgap\":0},\"margin\":{\"t\":60},\"title\":{\"text\":\"Cancer Deaths by Type Cassified into Specific System (2010-2019)\",\"x\":0}},                        {\"responsive\": true}                    ).then(function(){\n",
       "                            \n",
       "var gd = document.getElementById('d19bdfaa-eee3-411b-8ae4-392817fd4317');\n",
       "var x = new MutationObserver(function (mutations, observer) {{\n",
       "        var display = window.getComputedStyle(gd).display;\n",
       "        if (!display || display === 'none') {{\n",
       "            console.log([gd, 'removed!']);\n",
       "            Plotly.purge(gd);\n",
       "            observer.disconnect();\n",
       "        }}\n",
       "}});\n",
       "\n",
       "// Listen for the removal of the full notebook cells\n",
       "var notebookContainer = gd.closest('#notebook-container');\n",
       "if (notebookContainer) {{\n",
       "    x.observe(notebookContainer, {childList: true});\n",
       "}}\n",
       "\n",
       "// Listen for the clearing of the current output cell\n",
       "var outputEl = gd.closest('.output');\n",
       "if (outputEl) {{\n",
       "    x.observe(outputEl, {childList: true});\n",
       "}}\n",
       "\n",
       "                        })                };                });            </script>        </div>"
      ]
     },
     "metadata": {},
     "output_type": "display_data"
    },
    {
     "data": {
      "text/plain": [
       "<Figure size 800x800 with 0 Axes>"
      ]
     },
     "metadata": {},
     "output_type": "display_data"
    }
   ],
   "source": [
    "#fig=px.sunburst(cancer,path=['Body System','Cancer Type'],values='Total Deaths')\n",
    "#fig.show()\n",
    "\n",
    "fig = px.sunburst(cancer, path=['Body System', 'Cancer Type'], values='Total Deaths', color='Body System', \n",
    "                  color_discrete_map={\n",
    "        'Digestive': '#F08080',\n",
    "        'Reproductive': '#FF82AB',\n",
    "        'Circulatory': '#FFC0CB',            \n",
    "        'Respiratory': '#EEA9B8',            \n",
    "        'Neuronal': '#FFC1C1' ,          \n",
    "        'Renal': '#FF82AB',           \n",
    "        'Skin': '#FFB5C5', \n",
    "        'Endocrine': '#FFBBFF',             \n",
    "        'Other':'#FFDAB9'})\n",
    "fig.update_layout(title_text='Cancer Deaths by Type Cassified into Specific System (2010-2019)', title_x=0)\n",
    "plt.figure(figsize=(8,8))\n",
    "fig.show()"
   ]
  },
  {
   "cell_type": "code",
   "execution_count": 30,
   "id": "aceabb32",
   "metadata": {},
   "outputs": [
    {
     "name": "stdout",
     "output_type": "stream",
     "text": [
      "     Body System                           Cancer Type  Total Deaths\n",
      "0   Reproductive                         Breast cancer         18885\n",
      "1   Reproductive                       Cervical cancer         15312\n",
      "2   Reproductive                       Prostate cancer         15484\n",
      "3   Reproductive                        Uterine cancer          1313\n",
      "4   Reproductive                     Testicular cancer           118\n",
      "5   Reproductive                        Ovarian cancer          4640\n",
      "6      Digestive                     Esophageal cancer         24402\n",
      "7      Digestive                        Stomach cancer         18247\n",
      "8      Digestive               Colon and rectum cancer         13425\n",
      "9      Digestive            Lip and oral cavity cancer          7610\n",
      "10     Digestive                          Liver cancer          6475\n",
      "11     Digestive                     Pancreatic cancer          5422\n",
      "12     Digestive  Gallbladder and biliary tract cancer          2502\n"
     ]
    },
    {
     "data": {
      "application/vnd.plotly.v1+json": {
       "config": {
        "plotlyServerURL": "https://plot.ly"
       },
       "data": [
        {
         "branchvalues": "total",
         "customdata": [
          [
           "Digestive"
          ],
          [
           "Reproductive"
          ],
          [
           "Digestive"
          ],
          [
           "Reproductive"
          ],
          [
           "Digestive"
          ],
          [
           "Reproductive"
          ],
          [
           "Reproductive"
          ],
          [
           "Reproductive"
          ],
          [
           "Reproductive"
          ],
          [
           "Digestive"
          ],
          [
           "Digestive"
          ],
          [
           "Digestive"
          ],
          [
           "Digestive"
          ],
          [
           "Digestive"
          ],
          [
           "Reproductive"
          ]
         ],
         "domain": {
          "x": [
           0,
           1
          ],
          "y": [
           0,
           1
          ]
         },
         "hovertemplate": "labels=%{label}<br>Total Deaths=%{value}<br>parent=%{parent}<br>id=%{id}<br>Body System=%{customdata[0]}<extra></extra>",
         "ids": [
          "Digestive/Liver cancer",
          "Reproductive/Ovarian cancer",
          "Digestive/Pancreatic cancer",
          "Reproductive/Prostate cancer",
          "Digestive/Stomach cancer",
          "Reproductive/Testicular cancer",
          "Reproductive/Uterine cancer",
          "Reproductive/Breast cancer",
          "Reproductive/Cervical cancer",
          "Digestive/Colon and rectum cancer",
          "Digestive/Esophageal cancer",
          "Digestive/Gallbladder and biliary tract cancer",
          "Digestive/Lip and oral cavity cancer",
          "Digestive",
          "Reproductive"
         ],
         "labels": [
          "Liver cancer",
          "Ovarian cancer",
          "Pancreatic cancer",
          "Prostate cancer",
          "Stomach cancer",
          "Testicular cancer",
          "Uterine cancer",
          "Breast cancer",
          "Cervical cancer",
          "Colon and rectum cancer",
          "Esophageal cancer",
          "Gallbladder and biliary tract cancer",
          "Lip and oral cavity cancer",
          "Digestive",
          "Reproductive"
         ],
         "marker": {
          "colors": [
           "#F08080",
           "#FFB6C1",
           "#F08080",
           "#FFB6C1",
           "#F08080",
           "#FFB6C1",
           "#FFB6C1",
           "#FFB6C1",
           "#FFB6C1",
           "#F08080",
           "#F08080",
           "#F08080",
           "#F08080",
           "#F08080",
           "#FFB6C1"
          ]
         },
         "name": "",
         "parents": [
          "Digestive",
          "Reproductive",
          "Digestive",
          "Reproductive",
          "Digestive",
          "Reproductive",
          "Reproductive",
          "Reproductive",
          "Reproductive",
          "Digestive",
          "Digestive",
          "Digestive",
          "Digestive",
          "",
          ""
         ],
         "type": "sunburst",
         "values": [
          6475,
          4640,
          5422,
          15484,
          18247,
          118,
          1313,
          18885,
          15312,
          13425,
          24402,
          2502,
          7610,
          78083,
          55752
         ]
        }
       ],
       "layout": {
        "legend": {
         "tracegroupgap": 0
        },
        "margin": {
         "t": 60
        },
        "template": {
         "data": {
          "bar": [
           {
            "error_x": {
             "color": "#2a3f5f"
            },
            "error_y": {
             "color": "#2a3f5f"
            },
            "marker": {
             "line": {
              "color": "#E5ECF6",
              "width": 0.5
             },
             "pattern": {
              "fillmode": "overlay",
              "size": 10,
              "solidity": 0.2
             }
            },
            "type": "bar"
           }
          ],
          "barpolar": [
           {
            "marker": {
             "line": {
              "color": "#E5ECF6",
              "width": 0.5
             },
             "pattern": {
              "fillmode": "overlay",
              "size": 10,
              "solidity": 0.2
             }
            },
            "type": "barpolar"
           }
          ],
          "carpet": [
           {
            "aaxis": {
             "endlinecolor": "#2a3f5f",
             "gridcolor": "white",
             "linecolor": "white",
             "minorgridcolor": "white",
             "startlinecolor": "#2a3f5f"
            },
            "baxis": {
             "endlinecolor": "#2a3f5f",
             "gridcolor": "white",
             "linecolor": "white",
             "minorgridcolor": "white",
             "startlinecolor": "#2a3f5f"
            },
            "type": "carpet"
           }
          ],
          "choropleth": [
           {
            "colorbar": {
             "outlinewidth": 0,
             "ticks": ""
            },
            "type": "choropleth"
           }
          ],
          "contour": [
           {
            "colorbar": {
             "outlinewidth": 0,
             "ticks": ""
            },
            "colorscale": [
             [
              0,
              "#0d0887"
             ],
             [
              0.1111111111111111,
              "#46039f"
             ],
             [
              0.2222222222222222,
              "#7201a8"
             ],
             [
              0.3333333333333333,
              "#9c179e"
             ],
             [
              0.4444444444444444,
              "#bd3786"
             ],
             [
              0.5555555555555556,
              "#d8576b"
             ],
             [
              0.6666666666666666,
              "#ed7953"
             ],
             [
              0.7777777777777778,
              "#fb9f3a"
             ],
             [
              0.8888888888888888,
              "#fdca26"
             ],
             [
              1,
              "#f0f921"
             ]
            ],
            "type": "contour"
           }
          ],
          "contourcarpet": [
           {
            "colorbar": {
             "outlinewidth": 0,
             "ticks": ""
            },
            "type": "contourcarpet"
           }
          ],
          "heatmap": [
           {
            "colorbar": {
             "outlinewidth": 0,
             "ticks": ""
            },
            "colorscale": [
             [
              0,
              "#0d0887"
             ],
             [
              0.1111111111111111,
              "#46039f"
             ],
             [
              0.2222222222222222,
              "#7201a8"
             ],
             [
              0.3333333333333333,
              "#9c179e"
             ],
             [
              0.4444444444444444,
              "#bd3786"
             ],
             [
              0.5555555555555556,
              "#d8576b"
             ],
             [
              0.6666666666666666,
              "#ed7953"
             ],
             [
              0.7777777777777778,
              "#fb9f3a"
             ],
             [
              0.8888888888888888,
              "#fdca26"
             ],
             [
              1,
              "#f0f921"
             ]
            ],
            "type": "heatmap"
           }
          ],
          "heatmapgl": [
           {
            "colorbar": {
             "outlinewidth": 0,
             "ticks": ""
            },
            "colorscale": [
             [
              0,
              "#0d0887"
             ],
             [
              0.1111111111111111,
              "#46039f"
             ],
             [
              0.2222222222222222,
              "#7201a8"
             ],
             [
              0.3333333333333333,
              "#9c179e"
             ],
             [
              0.4444444444444444,
              "#bd3786"
             ],
             [
              0.5555555555555556,
              "#d8576b"
             ],
             [
              0.6666666666666666,
              "#ed7953"
             ],
             [
              0.7777777777777778,
              "#fb9f3a"
             ],
             [
              0.8888888888888888,
              "#fdca26"
             ],
             [
              1,
              "#f0f921"
             ]
            ],
            "type": "heatmapgl"
           }
          ],
          "histogram": [
           {
            "marker": {
             "pattern": {
              "fillmode": "overlay",
              "size": 10,
              "solidity": 0.2
             }
            },
            "type": "histogram"
           }
          ],
          "histogram2d": [
           {
            "colorbar": {
             "outlinewidth": 0,
             "ticks": ""
            },
            "colorscale": [
             [
              0,
              "#0d0887"
             ],
             [
              0.1111111111111111,
              "#46039f"
             ],
             [
              0.2222222222222222,
              "#7201a8"
             ],
             [
              0.3333333333333333,
              "#9c179e"
             ],
             [
              0.4444444444444444,
              "#bd3786"
             ],
             [
              0.5555555555555556,
              "#d8576b"
             ],
             [
              0.6666666666666666,
              "#ed7953"
             ],
             [
              0.7777777777777778,
              "#fb9f3a"
             ],
             [
              0.8888888888888888,
              "#fdca26"
             ],
             [
              1,
              "#f0f921"
             ]
            ],
            "type": "histogram2d"
           }
          ],
          "histogram2dcontour": [
           {
            "colorbar": {
             "outlinewidth": 0,
             "ticks": ""
            },
            "colorscale": [
             [
              0,
              "#0d0887"
             ],
             [
              0.1111111111111111,
              "#46039f"
             ],
             [
              0.2222222222222222,
              "#7201a8"
             ],
             [
              0.3333333333333333,
              "#9c179e"
             ],
             [
              0.4444444444444444,
              "#bd3786"
             ],
             [
              0.5555555555555556,
              "#d8576b"
             ],
             [
              0.6666666666666666,
              "#ed7953"
             ],
             [
              0.7777777777777778,
              "#fb9f3a"
             ],
             [
              0.8888888888888888,
              "#fdca26"
             ],
             [
              1,
              "#f0f921"
             ]
            ],
            "type": "histogram2dcontour"
           }
          ],
          "mesh3d": [
           {
            "colorbar": {
             "outlinewidth": 0,
             "ticks": ""
            },
            "type": "mesh3d"
           }
          ],
          "parcoords": [
           {
            "line": {
             "colorbar": {
              "outlinewidth": 0,
              "ticks": ""
             }
            },
            "type": "parcoords"
           }
          ],
          "pie": [
           {
            "automargin": true,
            "type": "pie"
           }
          ],
          "scatter": [
           {
            "fillpattern": {
             "fillmode": "overlay",
             "size": 10,
             "solidity": 0.2
            },
            "type": "scatter"
           }
          ],
          "scatter3d": [
           {
            "line": {
             "colorbar": {
              "outlinewidth": 0,
              "ticks": ""
             }
            },
            "marker": {
             "colorbar": {
              "outlinewidth": 0,
              "ticks": ""
             }
            },
            "type": "scatter3d"
           }
          ],
          "scattercarpet": [
           {
            "marker": {
             "colorbar": {
              "outlinewidth": 0,
              "ticks": ""
             }
            },
            "type": "scattercarpet"
           }
          ],
          "scattergeo": [
           {
            "marker": {
             "colorbar": {
              "outlinewidth": 0,
              "ticks": ""
             }
            },
            "type": "scattergeo"
           }
          ],
          "scattergl": [
           {
            "marker": {
             "colorbar": {
              "outlinewidth": 0,
              "ticks": ""
             }
            },
            "type": "scattergl"
           }
          ],
          "scattermapbox": [
           {
            "marker": {
             "colorbar": {
              "outlinewidth": 0,
              "ticks": ""
             }
            },
            "type": "scattermapbox"
           }
          ],
          "scatterpolar": [
           {
            "marker": {
             "colorbar": {
              "outlinewidth": 0,
              "ticks": ""
             }
            },
            "type": "scatterpolar"
           }
          ],
          "scatterpolargl": [
           {
            "marker": {
             "colorbar": {
              "outlinewidth": 0,
              "ticks": ""
             }
            },
            "type": "scatterpolargl"
           }
          ],
          "scatterternary": [
           {
            "marker": {
             "colorbar": {
              "outlinewidth": 0,
              "ticks": ""
             }
            },
            "type": "scatterternary"
           }
          ],
          "surface": [
           {
            "colorbar": {
             "outlinewidth": 0,
             "ticks": ""
            },
            "colorscale": [
             [
              0,
              "#0d0887"
             ],
             [
              0.1111111111111111,
              "#46039f"
             ],
             [
              0.2222222222222222,
              "#7201a8"
             ],
             [
              0.3333333333333333,
              "#9c179e"
             ],
             [
              0.4444444444444444,
              "#bd3786"
             ],
             [
              0.5555555555555556,
              "#d8576b"
             ],
             [
              0.6666666666666666,
              "#ed7953"
             ],
             [
              0.7777777777777778,
              "#fb9f3a"
             ],
             [
              0.8888888888888888,
              "#fdca26"
             ],
             [
              1,
              "#f0f921"
             ]
            ],
            "type": "surface"
           }
          ],
          "table": [
           {
            "cells": {
             "fill": {
              "color": "#EBF0F8"
             },
             "line": {
              "color": "white"
             }
            },
            "header": {
             "fill": {
              "color": "#C8D4E3"
             },
             "line": {
              "color": "white"
             }
            },
            "type": "table"
           }
          ]
         },
         "layout": {
          "annotationdefaults": {
           "arrowcolor": "#2a3f5f",
           "arrowhead": 0,
           "arrowwidth": 1
          },
          "autotypenumbers": "strict",
          "coloraxis": {
           "colorbar": {
            "outlinewidth": 0,
            "ticks": ""
           }
          },
          "colorscale": {
           "diverging": [
            [
             0,
             "#8e0152"
            ],
            [
             0.1,
             "#c51b7d"
            ],
            [
             0.2,
             "#de77ae"
            ],
            [
             0.3,
             "#f1b6da"
            ],
            [
             0.4,
             "#fde0ef"
            ],
            [
             0.5,
             "#f7f7f7"
            ],
            [
             0.6,
             "#e6f5d0"
            ],
            [
             0.7,
             "#b8e186"
            ],
            [
             0.8,
             "#7fbc41"
            ],
            [
             0.9,
             "#4d9221"
            ],
            [
             1,
             "#276419"
            ]
           ],
           "sequential": [
            [
             0,
             "#0d0887"
            ],
            [
             0.1111111111111111,
             "#46039f"
            ],
            [
             0.2222222222222222,
             "#7201a8"
            ],
            [
             0.3333333333333333,
             "#9c179e"
            ],
            [
             0.4444444444444444,
             "#bd3786"
            ],
            [
             0.5555555555555556,
             "#d8576b"
            ],
            [
             0.6666666666666666,
             "#ed7953"
            ],
            [
             0.7777777777777778,
             "#fb9f3a"
            ],
            [
             0.8888888888888888,
             "#fdca26"
            ],
            [
             1,
             "#f0f921"
            ]
           ],
           "sequentialminus": [
            [
             0,
             "#0d0887"
            ],
            [
             0.1111111111111111,
             "#46039f"
            ],
            [
             0.2222222222222222,
             "#7201a8"
            ],
            [
             0.3333333333333333,
             "#9c179e"
            ],
            [
             0.4444444444444444,
             "#bd3786"
            ],
            [
             0.5555555555555556,
             "#d8576b"
            ],
            [
             0.6666666666666666,
             "#ed7953"
            ],
            [
             0.7777777777777778,
             "#fb9f3a"
            ],
            [
             0.8888888888888888,
             "#fdca26"
            ],
            [
             1,
             "#f0f921"
            ]
           ]
          },
          "colorway": [
           "#636efa",
           "#EF553B",
           "#00cc96",
           "#ab63fa",
           "#FFA15A",
           "#19d3f3",
           "#FF6692",
           "#B6E880",
           "#FF97FF",
           "#FECB52"
          ],
          "font": {
           "color": "#2a3f5f"
          },
          "geo": {
           "bgcolor": "white",
           "lakecolor": "white",
           "landcolor": "#E5ECF6",
           "showlakes": true,
           "showland": true,
           "subunitcolor": "white"
          },
          "hoverlabel": {
           "align": "left"
          },
          "hovermode": "closest",
          "mapbox": {
           "style": "light"
          },
          "paper_bgcolor": "white",
          "plot_bgcolor": "#E5ECF6",
          "polar": {
           "angularaxis": {
            "gridcolor": "white",
            "linecolor": "white",
            "ticks": ""
           },
           "bgcolor": "#E5ECF6",
           "radialaxis": {
            "gridcolor": "white",
            "linecolor": "white",
            "ticks": ""
           }
          },
          "scene": {
           "xaxis": {
            "backgroundcolor": "#E5ECF6",
            "gridcolor": "white",
            "gridwidth": 2,
            "linecolor": "white",
            "showbackground": true,
            "ticks": "",
            "zerolinecolor": "white"
           },
           "yaxis": {
            "backgroundcolor": "#E5ECF6",
            "gridcolor": "white",
            "gridwidth": 2,
            "linecolor": "white",
            "showbackground": true,
            "ticks": "",
            "zerolinecolor": "white"
           },
           "zaxis": {
            "backgroundcolor": "#E5ECF6",
            "gridcolor": "white",
            "gridwidth": 2,
            "linecolor": "white",
            "showbackground": true,
            "ticks": "",
            "zerolinecolor": "white"
           }
          },
          "shapedefaults": {
           "line": {
            "color": "#2a3f5f"
           }
          },
          "ternary": {
           "aaxis": {
            "gridcolor": "white",
            "linecolor": "white",
            "ticks": ""
           },
           "baxis": {
            "gridcolor": "white",
            "linecolor": "white",
            "ticks": ""
           },
           "bgcolor": "#E5ECF6",
           "caxis": {
            "gridcolor": "white",
            "linecolor": "white",
            "ticks": ""
           }
          },
          "title": {
           "x": 0.05
          },
          "xaxis": {
           "automargin": true,
           "gridcolor": "white",
           "linecolor": "white",
           "ticks": "",
           "title": {
            "standoff": 15
           },
           "zerolinecolor": "white",
           "zerolinewidth": 2
          },
          "yaxis": {
           "automargin": true,
           "gridcolor": "white",
           "linecolor": "white",
           "ticks": "",
           "title": {
            "standoff": 15
           },
           "zerolinecolor": "white",
           "zerolinewidth": 2
          }
         }
        },
        "title": {
         "text": "Digestive vs Reproductive System Cancers",
         "x": 0
        }
       }
      },
      "text/html": [
       "<div>                            <div id=\"10efb688-c524-46af-8e93-114f5368828a\" class=\"plotly-graph-div\" style=\"height:525px; width:100%;\"></div>            <script type=\"text/javascript\">                require([\"plotly\"], function(Plotly) {                    window.PLOTLYENV=window.PLOTLYENV || {};                                    if (document.getElementById(\"10efb688-c524-46af-8e93-114f5368828a\")) {                    Plotly.newPlot(                        \"10efb688-c524-46af-8e93-114f5368828a\",                        [{\"branchvalues\":\"total\",\"customdata\":[[\"Digestive\"],[\"Reproductive\"],[\"Digestive\"],[\"Reproductive\"],[\"Digestive\"],[\"Reproductive\"],[\"Reproductive\"],[\"Reproductive\"],[\"Reproductive\"],[\"Digestive\"],[\"Digestive\"],[\"Digestive\"],[\"Digestive\"],[\"Digestive\"],[\"Reproductive\"]],\"domain\":{\"x\":[0.0,1.0],\"y\":[0.0,1.0]},\"hovertemplate\":\"labels=%{label}<br>Total Deaths=%{value}<br>parent=%{parent}<br>id=%{id}<br>Body System=%{customdata[0]}<extra></extra>\",\"ids\":[\"Digestive/Liver cancer\",\"Reproductive/Ovarian cancer\",\"Digestive/Pancreatic cancer\",\"Reproductive/Prostate cancer\",\"Digestive/Stomach cancer\",\"Reproductive/Testicular cancer\",\"Reproductive/Uterine cancer\",\"Reproductive/Breast cancer\",\"Reproductive/Cervical cancer\",\"Digestive/Colon and rectum cancer\",\"Digestive/Esophageal cancer\",\"Digestive/Gallbladder and biliary tract cancer\",\"Digestive/Lip and oral cavity cancer\",\"Digestive\",\"Reproductive\"],\"labels\":[\"Liver cancer\",\"Ovarian cancer\",\"Pancreatic cancer\",\"Prostate cancer\",\"Stomach cancer\",\"Testicular cancer\",\"Uterine cancer\",\"Breast cancer\",\"Cervical cancer\",\"Colon and rectum cancer\",\"Esophageal cancer\",\"Gallbladder and biliary tract cancer\",\"Lip and oral cavity cancer\",\"Digestive\",\"Reproductive\"],\"marker\":{\"colors\":[\"#F08080\",\"#FFB6C1\",\"#F08080\",\"#FFB6C1\",\"#F08080\",\"#FFB6C1\",\"#FFB6C1\",\"#FFB6C1\",\"#FFB6C1\",\"#F08080\",\"#F08080\",\"#F08080\",\"#F08080\",\"#F08080\",\"#FFB6C1\"]},\"name\":\"\",\"parents\":[\"Digestive\",\"Reproductive\",\"Digestive\",\"Reproductive\",\"Digestive\",\"Reproductive\",\"Reproductive\",\"Reproductive\",\"Reproductive\",\"Digestive\",\"Digestive\",\"Digestive\",\"Digestive\",\"\",\"\"],\"values\":[6475,4640,5422,15484,18247,118,1313,18885,15312,13425,24402,2502,7610,78083,55752],\"type\":\"sunburst\"}],                        {\"template\":{\"data\":{\"histogram2dcontour\":[{\"type\":\"histogram2dcontour\",\"colorbar\":{\"outlinewidth\":0,\"ticks\":\"\"},\"colorscale\":[[0.0,\"#0d0887\"],[0.1111111111111111,\"#46039f\"],[0.2222222222222222,\"#7201a8\"],[0.3333333333333333,\"#9c179e\"],[0.4444444444444444,\"#bd3786\"],[0.5555555555555556,\"#d8576b\"],[0.6666666666666666,\"#ed7953\"],[0.7777777777777778,\"#fb9f3a\"],[0.8888888888888888,\"#fdca26\"],[1.0,\"#f0f921\"]]}],\"choropleth\":[{\"type\":\"choropleth\",\"colorbar\":{\"outlinewidth\":0,\"ticks\":\"\"}}],\"histogram2d\":[{\"type\":\"histogram2d\",\"colorbar\":{\"outlinewidth\":0,\"ticks\":\"\"},\"colorscale\":[[0.0,\"#0d0887\"],[0.1111111111111111,\"#46039f\"],[0.2222222222222222,\"#7201a8\"],[0.3333333333333333,\"#9c179e\"],[0.4444444444444444,\"#bd3786\"],[0.5555555555555556,\"#d8576b\"],[0.6666666666666666,\"#ed7953\"],[0.7777777777777778,\"#fb9f3a\"],[0.8888888888888888,\"#fdca26\"],[1.0,\"#f0f921\"]]}],\"heatmap\":[{\"type\":\"heatmap\",\"colorbar\":{\"outlinewidth\":0,\"ticks\":\"\"},\"colorscale\":[[0.0,\"#0d0887\"],[0.1111111111111111,\"#46039f\"],[0.2222222222222222,\"#7201a8\"],[0.3333333333333333,\"#9c179e\"],[0.4444444444444444,\"#bd3786\"],[0.5555555555555556,\"#d8576b\"],[0.6666666666666666,\"#ed7953\"],[0.7777777777777778,\"#fb9f3a\"],[0.8888888888888888,\"#fdca26\"],[1.0,\"#f0f921\"]]}],\"heatmapgl\":[{\"type\":\"heatmapgl\",\"colorbar\":{\"outlinewidth\":0,\"ticks\":\"\"},\"colorscale\":[[0.0,\"#0d0887\"],[0.1111111111111111,\"#46039f\"],[0.2222222222222222,\"#7201a8\"],[0.3333333333333333,\"#9c179e\"],[0.4444444444444444,\"#bd3786\"],[0.5555555555555556,\"#d8576b\"],[0.6666666666666666,\"#ed7953\"],[0.7777777777777778,\"#fb9f3a\"],[0.8888888888888888,\"#fdca26\"],[1.0,\"#f0f921\"]]}],\"contourcarpet\":[{\"type\":\"contourcarpet\",\"colorbar\":{\"outlinewidth\":0,\"ticks\":\"\"}}],\"contour\":[{\"type\":\"contour\",\"colorbar\":{\"outlinewidth\":0,\"ticks\":\"\"},\"colorscale\":[[0.0,\"#0d0887\"],[0.1111111111111111,\"#46039f\"],[0.2222222222222222,\"#7201a8\"],[0.3333333333333333,\"#9c179e\"],[0.4444444444444444,\"#bd3786\"],[0.5555555555555556,\"#d8576b\"],[0.6666666666666666,\"#ed7953\"],[0.7777777777777778,\"#fb9f3a\"],[0.8888888888888888,\"#fdca26\"],[1.0,\"#f0f921\"]]}],\"surface\":[{\"type\":\"surface\",\"colorbar\":{\"outlinewidth\":0,\"ticks\":\"\"},\"colorscale\":[[0.0,\"#0d0887\"],[0.1111111111111111,\"#46039f\"],[0.2222222222222222,\"#7201a8\"],[0.3333333333333333,\"#9c179e\"],[0.4444444444444444,\"#bd3786\"],[0.5555555555555556,\"#d8576b\"],[0.6666666666666666,\"#ed7953\"],[0.7777777777777778,\"#fb9f3a\"],[0.8888888888888888,\"#fdca26\"],[1.0,\"#f0f921\"]]}],\"mesh3d\":[{\"type\":\"mesh3d\",\"colorbar\":{\"outlinewidth\":0,\"ticks\":\"\"}}],\"scatter\":[{\"fillpattern\":{\"fillmode\":\"overlay\",\"size\":10,\"solidity\":0.2},\"type\":\"scatter\"}],\"parcoords\":[{\"type\":\"parcoords\",\"line\":{\"colorbar\":{\"outlinewidth\":0,\"ticks\":\"\"}}}],\"scatterpolargl\":[{\"type\":\"scatterpolargl\",\"marker\":{\"colorbar\":{\"outlinewidth\":0,\"ticks\":\"\"}}}],\"bar\":[{\"error_x\":{\"color\":\"#2a3f5f\"},\"error_y\":{\"color\":\"#2a3f5f\"},\"marker\":{\"line\":{\"color\":\"#E5ECF6\",\"width\":0.5},\"pattern\":{\"fillmode\":\"overlay\",\"size\":10,\"solidity\":0.2}},\"type\":\"bar\"}],\"scattergeo\":[{\"type\":\"scattergeo\",\"marker\":{\"colorbar\":{\"outlinewidth\":0,\"ticks\":\"\"}}}],\"scatterpolar\":[{\"type\":\"scatterpolar\",\"marker\":{\"colorbar\":{\"outlinewidth\":0,\"ticks\":\"\"}}}],\"histogram\":[{\"marker\":{\"pattern\":{\"fillmode\":\"overlay\",\"size\":10,\"solidity\":0.2}},\"type\":\"histogram\"}],\"scattergl\":[{\"type\":\"scattergl\",\"marker\":{\"colorbar\":{\"outlinewidth\":0,\"ticks\":\"\"}}}],\"scatter3d\":[{\"type\":\"scatter3d\",\"line\":{\"colorbar\":{\"outlinewidth\":0,\"ticks\":\"\"}},\"marker\":{\"colorbar\":{\"outlinewidth\":0,\"ticks\":\"\"}}}],\"scattermapbox\":[{\"type\":\"scattermapbox\",\"marker\":{\"colorbar\":{\"outlinewidth\":0,\"ticks\":\"\"}}}],\"scatterternary\":[{\"type\":\"scatterternary\",\"marker\":{\"colorbar\":{\"outlinewidth\":0,\"ticks\":\"\"}}}],\"scattercarpet\":[{\"type\":\"scattercarpet\",\"marker\":{\"colorbar\":{\"outlinewidth\":0,\"ticks\":\"\"}}}],\"carpet\":[{\"aaxis\":{\"endlinecolor\":\"#2a3f5f\",\"gridcolor\":\"white\",\"linecolor\":\"white\",\"minorgridcolor\":\"white\",\"startlinecolor\":\"#2a3f5f\"},\"baxis\":{\"endlinecolor\":\"#2a3f5f\",\"gridcolor\":\"white\",\"linecolor\":\"white\",\"minorgridcolor\":\"white\",\"startlinecolor\":\"#2a3f5f\"},\"type\":\"carpet\"}],\"table\":[{\"cells\":{\"fill\":{\"color\":\"#EBF0F8\"},\"line\":{\"color\":\"white\"}},\"header\":{\"fill\":{\"color\":\"#C8D4E3\"},\"line\":{\"color\":\"white\"}},\"type\":\"table\"}],\"barpolar\":[{\"marker\":{\"line\":{\"color\":\"#E5ECF6\",\"width\":0.5},\"pattern\":{\"fillmode\":\"overlay\",\"size\":10,\"solidity\":0.2}},\"type\":\"barpolar\"}],\"pie\":[{\"automargin\":true,\"type\":\"pie\"}]},\"layout\":{\"autotypenumbers\":\"strict\",\"colorway\":[\"#636efa\",\"#EF553B\",\"#00cc96\",\"#ab63fa\",\"#FFA15A\",\"#19d3f3\",\"#FF6692\",\"#B6E880\",\"#FF97FF\",\"#FECB52\"],\"font\":{\"color\":\"#2a3f5f\"},\"hovermode\":\"closest\",\"hoverlabel\":{\"align\":\"left\"},\"paper_bgcolor\":\"white\",\"plot_bgcolor\":\"#E5ECF6\",\"polar\":{\"bgcolor\":\"#E5ECF6\",\"angularaxis\":{\"gridcolor\":\"white\",\"linecolor\":\"white\",\"ticks\":\"\"},\"radialaxis\":{\"gridcolor\":\"white\",\"linecolor\":\"white\",\"ticks\":\"\"}},\"ternary\":{\"bgcolor\":\"#E5ECF6\",\"aaxis\":{\"gridcolor\":\"white\",\"linecolor\":\"white\",\"ticks\":\"\"},\"baxis\":{\"gridcolor\":\"white\",\"linecolor\":\"white\",\"ticks\":\"\"},\"caxis\":{\"gridcolor\":\"white\",\"linecolor\":\"white\",\"ticks\":\"\"}},\"coloraxis\":{\"colorbar\":{\"outlinewidth\":0,\"ticks\":\"\"}},\"colorscale\":{\"sequential\":[[0.0,\"#0d0887\"],[0.1111111111111111,\"#46039f\"],[0.2222222222222222,\"#7201a8\"],[0.3333333333333333,\"#9c179e\"],[0.4444444444444444,\"#bd3786\"],[0.5555555555555556,\"#d8576b\"],[0.6666666666666666,\"#ed7953\"],[0.7777777777777778,\"#fb9f3a\"],[0.8888888888888888,\"#fdca26\"],[1.0,\"#f0f921\"]],\"sequentialminus\":[[0.0,\"#0d0887\"],[0.1111111111111111,\"#46039f\"],[0.2222222222222222,\"#7201a8\"],[0.3333333333333333,\"#9c179e\"],[0.4444444444444444,\"#bd3786\"],[0.5555555555555556,\"#d8576b\"],[0.6666666666666666,\"#ed7953\"],[0.7777777777777778,\"#fb9f3a\"],[0.8888888888888888,\"#fdca26\"],[1.0,\"#f0f921\"]],\"diverging\":[[0,\"#8e0152\"],[0.1,\"#c51b7d\"],[0.2,\"#de77ae\"],[0.3,\"#f1b6da\"],[0.4,\"#fde0ef\"],[0.5,\"#f7f7f7\"],[0.6,\"#e6f5d0\"],[0.7,\"#b8e186\"],[0.8,\"#7fbc41\"],[0.9,\"#4d9221\"],[1,\"#276419\"]]},\"xaxis\":{\"gridcolor\":\"white\",\"linecolor\":\"white\",\"ticks\":\"\",\"title\":{\"standoff\":15},\"zerolinecolor\":\"white\",\"automargin\":true,\"zerolinewidth\":2},\"yaxis\":{\"gridcolor\":\"white\",\"linecolor\":\"white\",\"ticks\":\"\",\"title\":{\"standoff\":15},\"zerolinecolor\":\"white\",\"automargin\":true,\"zerolinewidth\":2},\"scene\":{\"xaxis\":{\"backgroundcolor\":\"#E5ECF6\",\"gridcolor\":\"white\",\"linecolor\":\"white\",\"showbackground\":true,\"ticks\":\"\",\"zerolinecolor\":\"white\",\"gridwidth\":2},\"yaxis\":{\"backgroundcolor\":\"#E5ECF6\",\"gridcolor\":\"white\",\"linecolor\":\"white\",\"showbackground\":true,\"ticks\":\"\",\"zerolinecolor\":\"white\",\"gridwidth\":2},\"zaxis\":{\"backgroundcolor\":\"#E5ECF6\",\"gridcolor\":\"white\",\"linecolor\":\"white\",\"showbackground\":true,\"ticks\":\"\",\"zerolinecolor\":\"white\",\"gridwidth\":2}},\"shapedefaults\":{\"line\":{\"color\":\"#2a3f5f\"}},\"annotationdefaults\":{\"arrowcolor\":\"#2a3f5f\",\"arrowhead\":0,\"arrowwidth\":1},\"geo\":{\"bgcolor\":\"white\",\"landcolor\":\"#E5ECF6\",\"subunitcolor\":\"white\",\"showland\":true,\"showlakes\":true,\"lakecolor\":\"white\"},\"title\":{\"x\":0.05},\"mapbox\":{\"style\":\"light\"}}},\"legend\":{\"tracegroupgap\":0},\"margin\":{\"t\":60},\"title\":{\"text\":\"Digestive vs Reproductive System Cancers\",\"x\":0}},                        {\"responsive\": true}                    ).then(function(){\n",
       "                            \n",
       "var gd = document.getElementById('10efb688-c524-46af-8e93-114f5368828a');\n",
       "var x = new MutationObserver(function (mutations, observer) {{\n",
       "        var display = window.getComputedStyle(gd).display;\n",
       "        if (!display || display === 'none') {{\n",
       "            console.log([gd, 'removed!']);\n",
       "            Plotly.purge(gd);\n",
       "            observer.disconnect();\n",
       "        }}\n",
       "}});\n",
       "\n",
       "// Listen for the removal of the full notebook cells\n",
       "var notebookContainer = gd.closest('#notebook-container');\n",
       "if (notebookContainer) {{\n",
       "    x.observe(notebookContainer, {childList: true});\n",
       "}}\n",
       "\n",
       "// Listen for the clearing of the current output cell\n",
       "var outputEl = gd.closest('.output');\n",
       "if (outputEl) {{\n",
       "    x.observe(outputEl, {childList: true});\n",
       "}}\n",
       "\n",
       "                        })                };                });            </script>        </div>"
      ]
     },
     "metadata": {},
     "output_type": "display_data"
    }
   ],
   "source": [
    "reproductive_vs_digestive=pd.DataFrame([['Reproductive','Breast cancer',18885],['Reproductive','Cervical cancer',15312],['Reproductive','Prostate cancer',15484],['Reproductive','Uterine cancer',1313],['Reproductive','Testicular cancer',118],['Reproductive','Ovarian cancer',4640],\n",
    "                                       ['Digestive','Esophageal cancer',24402],['Digestive','Stomach cancer',18247],['Digestive','Colon and rectum cancer',13425],['Digestive','Lip and oral cavity cancer',7610],['Digestive','Liver cancer',6475],['Digestive','Pancreatic cancer',5422],['Digestive','Gallbladder and biliary tract cancer',2502]],\n",
    "                columns=['Body System','Cancer Type','Total Deaths'])\n",
    "print (reproductive_vs_digestive)\n",
    "\n",
    "\n",
    "fig=px.sunburst(reproductive_vs_digestive,path=['Body System','Cancer Type'],values='Total Deaths',color='Body System',\n",
    "                color_discrete_map={'Digestive': '#F08080','Reproductive': '#FFB6C1'})\n",
    "fig.update_layout(title_text='Digestive vs Reproductive System Cancers', title_x=0)\n",
    "fig.show()"
   ]
  },
  {
   "cell_type": "markdown",
   "id": "1093d99b",
   "metadata": {},
   "source": [
    "## Summary of Findings\n",
    "\n",
    "### Annual Mortality Trends\n",
    "Cancer mortality rates have been rising over the years, and is expected to keep on rising.\n",
    "\n",
    "    2010    15,936\n",
    "    2011    16,515\n",
    "    2012    17,031\n",
    "    2013    17,540\n",
    "    2014    18,050\n",
    "    2015    18,575\n",
    "    2016    19,180\n",
    "    2017    19,907\n",
    "    2018    20,798\n",
    "    2019    21,688\n",
    "    Total  185,220\n",
    "\n",
    "### Cancer Deaths by Type\n",
    "\n",
    "Unlike global statistics that show tracheal, bronchus and lung cancer as the top killing cancer, esophageal cancer is the leading cancer type in Kenya. The top 5 killing cancers are esophageal, breast, stomach, prostate and cervical cancer. \n",
    "\n",
    "Esophageal cancer has contributed to over 13% of total cancer deaths over the decade under review. Followed closely by breast and stomach cancer with a little over 10 and 9 per cent respectively. Testicular cancer has the lowest mortality at 0.0006%.\n",
    "    \n",
    "    Top 5 Cancers\n",
    "                \n",
    "    Esophageal cancer    24,402\n",
    "    Breast cancer        18,885\n",
    "    Stomach cancer       18,247\n",
    "    Prostate cancer      15,484\n",
    "    Cervical cancer      15,312\n",
    "\n",
    "\n",
    "### System Cancers\n",
    "There are 11 boody systems- integumentary system (skin), skeletal, muscular, nervous, endocrine, cardiovascular, lymphatic, respiratory, digestive, urinary and reproductive systems. \n",
    "\n",
    "As expected,cancers of the digestive system i.e. esophageal, lip and oral, colorectum, stomach, liver, gallbladder and pancreatic cancers are the top killing cancers. However, heavy focus has been poured into reproductive system cancers, specifically breast, cervical and prostate cancer. \n",
    "\n",
    "#### Reproductive System Cancers \n",
    "Reproductive cancers can easily be categorized into male and female with the exception of breast cancer which affects both genders, which is the leading cause of death among cancers of the reproductive system. \n",
    "\n",
    "It is quite interesting to note that prostate cancer claims more lives than cervical cancer. Men tend to shy away from cancer screening as compared to women, so the probabilty of the prostate cancer figure being on the lower end is something worth noting. We lose more men to prostate cancer than we do women to cervical cancer. Prostate cancer accounts for over 99% total male deaths, which is 42% in the exclusively male and female cancer category.  \n",
    "\n",
    "### Recommendations \n",
    "*  Shift focus and intensify campaigns on digestive system cancers\n",
    "*  Create awareness on cancer screening for early detection and treatment\n",
    "*  Educate the public on the benefits and availability of the HPV vaccine\n",
    "*  Adopting an active and healthy lifestyle e.g avoiding alcohol and tobaco, excercising, eating healthy and well-balanced foods\n",
    "*  Reduce exposure to UV rays\n",
    "*  Avoid urban air polution\n",
    "*  Establishing more cancer facilities across the country\n",
    "\n"
   ]
  },
  {
   "cell_type": "code",
   "execution_count": null,
   "id": "583bf5e0",
   "metadata": {},
   "outputs": [],
   "source": []
  },
  {
   "cell_type": "code",
   "execution_count": null,
   "id": "c162ae76",
   "metadata": {},
   "outputs": [],
   "source": []
  }
 ],
 "metadata": {
  "kernelspec": {
   "display_name": "Python 3 (ipykernel)",
   "language": "python",
   "name": "python3"
  },
  "language_info": {
   "codemirror_mode": {
    "name": "ipython",
    "version": 3
   },
   "file_extension": ".py",
   "mimetype": "text/x-python",
   "name": "python",
   "nbconvert_exporter": "python",
   "pygments_lexer": "ipython3",
   "version": "3.10.9"
  }
 },
 "nbformat": 4,
 "nbformat_minor": 5
}
